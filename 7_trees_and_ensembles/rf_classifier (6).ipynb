{
  "cells": [
    {
      "cell_type": "markdown",
      "metadata": {
        "id": "mu77CmFDbrG_"
      },
      "source": [
        "# Introduction"
      ]
    },
    {
      "cell_type": "markdown",
      "metadata": {
        "id": "H1LOwDJdbrHE"
      },
      "source": [
        "Fortunately, with libraries such as Scikit-Learn, it’s now easy to build and use almost any machine learning algorithm. But it’s helpful to have an idea of how a machine learning model works under the hood. This lets us diagnose the model when it’s underperforming or explain how it makes decisions, which is crucial if we want to convince others to trust our models.\n",
        "In this assignment, we’ll look at how to build and use the Decision Tree and the Random Forest in Python. We’ll start by understanding how a single decision tree makes classifications on a simple problem. Then, we’ll work our way to using a random forest on a real-world data science problem."
      ]
    },
    {
      "cell_type": "markdown",
      "metadata": {
        "id": "bCVFoQjQbrHF"
      },
      "source": [
        "# Dataset"
      ]
    },
    {
      "cell_type": "markdown",
      "metadata": {
        "id": "B94-u4U9brHG"
      },
      "source": [
        "The dataset we will use in this assignment is the Sonar dataset.\n",
        "\n",
        "This is a dataset that describes sonar chirp returns bouncing off different surfaces. The 60 predictors are the strength of the returns at different angles. It is a binary classification problem that requires a model to differentiate rocks from metal cylinders. There are 208 observations.\n",
        "\n",
        "It is a well-understood dataset. All of the variables are continuous and generally in the range of 0 to 1. The output variable is a string “M” for mine and “R” for rock, which will need to be converted to integers 1 and 0.\n",
        "\n",
        "By predicting the class with the most observations in the dataset (M or mines) the Zero Rule Algorithm can achieve an accuracy of 53%.\n",
        "\n",
        "You can learn more about this dataset at the UCI Machine Learning repository.\n",
        "https://archive.ics.uci.edu/ml/datasets/Connectionist+Bench+(Sonar,+Mines+vs.+Rocks)\n",
        "\n",
        "Download the dataset for free and place it in the \"data\" folder in your working directory with the filename sonar.all-data.csv."
      ]
    },
    {
      "cell_type": "markdown",
      "metadata": {
        "id": "vUKdg4NUbrHH"
      },
      "source": [
        "# Import section"
      ]
    },
    {
      "cell_type": "code",
      "execution_count": 4,
      "metadata": {
        "id": "zzwCwMaGbrHI"
      },
      "outputs": [],
      "source": [
        "import numpy as np\n",
        "import pandas as pd\n",
        "import matplotlib.pyplot as plt\n",
        "import seaborn as sns\n",
        "from sklearn.model_selection import train_test_split\n",
        "from sklearn.metrics import accuracy_score"
      ]
    },
    {
      "cell_type": "code",
      "execution_count": 5,
      "metadata": {
        "id": "wbJBS6LVbrHJ"
      },
      "outputs": [],
      "source": [
        "import tests as tests"
      ]
    },
    {
      "cell_type": "code",
      "execution_count": 6,
      "metadata": {
        "id": "hqHyBtuobrHK"
      },
      "outputs": [],
      "source": [
        "RANDOM_STATE = 2020"
      ]
    },
    {
      "cell_type": "markdown",
      "metadata": {
        "id": "41bt4AafbrHK"
      },
      "source": [
        "# Preprocess data"
      ]
    },
    {
      "cell_type": "markdown",
      "metadata": {
        "id": "ntsHbJ6_brHL"
      },
      "source": [
        "Read data and convert targets to integers 1 and 0."
      ]
    },
    {
      "cell_type": "code",
      "execution_count": 7,
      "metadata": {
        "colab": {
          "base_uri": "https://localhost:8080/",
          "height": 299
        },
        "id": "FQGfkMk9brHM",
        "outputId": "30290fe2-c1b4-41b4-dee4-34bffab2f077"
      },
      "outputs": [
        {
          "output_type": "execute_result",
          "data": {
            "text/plain": [
              "   feat_0  feat_1  feat_2  feat_3  feat_4  feat_5  feat_6  feat_7  feat_8  \\\n",
              "0  0.0200  0.0371  0.0428  0.0207  0.0954  0.0986  0.1539  0.1601  0.3109   \n",
              "1  0.0453  0.0523  0.0843  0.0689  0.1183  0.2583  0.2156  0.3481  0.3337   \n",
              "2  0.0262  0.0582  0.1099  0.1083  0.0974  0.2280  0.2431  0.3771  0.5598   \n",
              "3  0.0100  0.0171  0.0623  0.0205  0.0205  0.0368  0.1098  0.1276  0.0598   \n",
              "4  0.0762  0.0666  0.0481  0.0394  0.0590  0.0649  0.1209  0.2467  0.3564   \n",
              "\n",
              "   feat_9  ...  feat_51  feat_52  feat_53  feat_54  feat_55  feat_56  feat_57  \\\n",
              "0  0.2111  ...   0.0027   0.0065   0.0159   0.0072   0.0167   0.0180   0.0084   \n",
              "1  0.2872  ...   0.0084   0.0089   0.0048   0.0094   0.0191   0.0140   0.0049   \n",
              "2  0.6194  ...   0.0232   0.0166   0.0095   0.0180   0.0244   0.0316   0.0164   \n",
              "3  0.1264  ...   0.0121   0.0036   0.0150   0.0085   0.0073   0.0050   0.0044   \n",
              "4  0.4459  ...   0.0031   0.0054   0.0105   0.0110   0.0015   0.0072   0.0048   \n",
              "\n",
              "   feat_58  feat_59  target  \n",
              "0   0.0090   0.0032       0  \n",
              "1   0.0052   0.0044       0  \n",
              "2   0.0095   0.0078       0  \n",
              "3   0.0040   0.0117       0  \n",
              "4   0.0107   0.0094       0  \n",
              "\n",
              "[5 rows x 61 columns]"
            ],
            "text/html": [
              "\n",
              "  <div id=\"df-9142dac9-28d0-4ada-9168-918f25e2a07b\">\n",
              "    <div class=\"colab-df-container\">\n",
              "      <div>\n",
              "<style scoped>\n",
              "    .dataframe tbody tr th:only-of-type {\n",
              "        vertical-align: middle;\n",
              "    }\n",
              "\n",
              "    .dataframe tbody tr th {\n",
              "        vertical-align: top;\n",
              "    }\n",
              "\n",
              "    .dataframe thead th {\n",
              "        text-align: right;\n",
              "    }\n",
              "</style>\n",
              "<table border=\"1\" class=\"dataframe\">\n",
              "  <thead>\n",
              "    <tr style=\"text-align: right;\">\n",
              "      <th></th>\n",
              "      <th>feat_0</th>\n",
              "      <th>feat_1</th>\n",
              "      <th>feat_2</th>\n",
              "      <th>feat_3</th>\n",
              "      <th>feat_4</th>\n",
              "      <th>feat_5</th>\n",
              "      <th>feat_6</th>\n",
              "      <th>feat_7</th>\n",
              "      <th>feat_8</th>\n",
              "      <th>feat_9</th>\n",
              "      <th>...</th>\n",
              "      <th>feat_51</th>\n",
              "      <th>feat_52</th>\n",
              "      <th>feat_53</th>\n",
              "      <th>feat_54</th>\n",
              "      <th>feat_55</th>\n",
              "      <th>feat_56</th>\n",
              "      <th>feat_57</th>\n",
              "      <th>feat_58</th>\n",
              "      <th>feat_59</th>\n",
              "      <th>target</th>\n",
              "    </tr>\n",
              "  </thead>\n",
              "  <tbody>\n",
              "    <tr>\n",
              "      <th>0</th>\n",
              "      <td>0.0200</td>\n",
              "      <td>0.0371</td>\n",
              "      <td>0.0428</td>\n",
              "      <td>0.0207</td>\n",
              "      <td>0.0954</td>\n",
              "      <td>0.0986</td>\n",
              "      <td>0.1539</td>\n",
              "      <td>0.1601</td>\n",
              "      <td>0.3109</td>\n",
              "      <td>0.2111</td>\n",
              "      <td>...</td>\n",
              "      <td>0.0027</td>\n",
              "      <td>0.0065</td>\n",
              "      <td>0.0159</td>\n",
              "      <td>0.0072</td>\n",
              "      <td>0.0167</td>\n",
              "      <td>0.0180</td>\n",
              "      <td>0.0084</td>\n",
              "      <td>0.0090</td>\n",
              "      <td>0.0032</td>\n",
              "      <td>0</td>\n",
              "    </tr>\n",
              "    <tr>\n",
              "      <th>1</th>\n",
              "      <td>0.0453</td>\n",
              "      <td>0.0523</td>\n",
              "      <td>0.0843</td>\n",
              "      <td>0.0689</td>\n",
              "      <td>0.1183</td>\n",
              "      <td>0.2583</td>\n",
              "      <td>0.2156</td>\n",
              "      <td>0.3481</td>\n",
              "      <td>0.3337</td>\n",
              "      <td>0.2872</td>\n",
              "      <td>...</td>\n",
              "      <td>0.0084</td>\n",
              "      <td>0.0089</td>\n",
              "      <td>0.0048</td>\n",
              "      <td>0.0094</td>\n",
              "      <td>0.0191</td>\n",
              "      <td>0.0140</td>\n",
              "      <td>0.0049</td>\n",
              "      <td>0.0052</td>\n",
              "      <td>0.0044</td>\n",
              "      <td>0</td>\n",
              "    </tr>\n",
              "    <tr>\n",
              "      <th>2</th>\n",
              "      <td>0.0262</td>\n",
              "      <td>0.0582</td>\n",
              "      <td>0.1099</td>\n",
              "      <td>0.1083</td>\n",
              "      <td>0.0974</td>\n",
              "      <td>0.2280</td>\n",
              "      <td>0.2431</td>\n",
              "      <td>0.3771</td>\n",
              "      <td>0.5598</td>\n",
              "      <td>0.6194</td>\n",
              "      <td>...</td>\n",
              "      <td>0.0232</td>\n",
              "      <td>0.0166</td>\n",
              "      <td>0.0095</td>\n",
              "      <td>0.0180</td>\n",
              "      <td>0.0244</td>\n",
              "      <td>0.0316</td>\n",
              "      <td>0.0164</td>\n",
              "      <td>0.0095</td>\n",
              "      <td>0.0078</td>\n",
              "      <td>0</td>\n",
              "    </tr>\n",
              "    <tr>\n",
              "      <th>3</th>\n",
              "      <td>0.0100</td>\n",
              "      <td>0.0171</td>\n",
              "      <td>0.0623</td>\n",
              "      <td>0.0205</td>\n",
              "      <td>0.0205</td>\n",
              "      <td>0.0368</td>\n",
              "      <td>0.1098</td>\n",
              "      <td>0.1276</td>\n",
              "      <td>0.0598</td>\n",
              "      <td>0.1264</td>\n",
              "      <td>...</td>\n",
              "      <td>0.0121</td>\n",
              "      <td>0.0036</td>\n",
              "      <td>0.0150</td>\n",
              "      <td>0.0085</td>\n",
              "      <td>0.0073</td>\n",
              "      <td>0.0050</td>\n",
              "      <td>0.0044</td>\n",
              "      <td>0.0040</td>\n",
              "      <td>0.0117</td>\n",
              "      <td>0</td>\n",
              "    </tr>\n",
              "    <tr>\n",
              "      <th>4</th>\n",
              "      <td>0.0762</td>\n",
              "      <td>0.0666</td>\n",
              "      <td>0.0481</td>\n",
              "      <td>0.0394</td>\n",
              "      <td>0.0590</td>\n",
              "      <td>0.0649</td>\n",
              "      <td>0.1209</td>\n",
              "      <td>0.2467</td>\n",
              "      <td>0.3564</td>\n",
              "      <td>0.4459</td>\n",
              "      <td>...</td>\n",
              "      <td>0.0031</td>\n",
              "      <td>0.0054</td>\n",
              "      <td>0.0105</td>\n",
              "      <td>0.0110</td>\n",
              "      <td>0.0015</td>\n",
              "      <td>0.0072</td>\n",
              "      <td>0.0048</td>\n",
              "      <td>0.0107</td>\n",
              "      <td>0.0094</td>\n",
              "      <td>0</td>\n",
              "    </tr>\n",
              "  </tbody>\n",
              "</table>\n",
              "<p>5 rows × 61 columns</p>\n",
              "</div>\n",
              "      <button class=\"colab-df-convert\" onclick=\"convertToInteractive('df-9142dac9-28d0-4ada-9168-918f25e2a07b')\"\n",
              "              title=\"Convert this dataframe to an interactive table.\"\n",
              "              style=\"display:none;\">\n",
              "        \n",
              "  <svg xmlns=\"http://www.w3.org/2000/svg\" height=\"24px\"viewBox=\"0 0 24 24\"\n",
              "       width=\"24px\">\n",
              "    <path d=\"M0 0h24v24H0V0z\" fill=\"none\"/>\n",
              "    <path d=\"M18.56 5.44l.94 2.06.94-2.06 2.06-.94-2.06-.94-.94-2.06-.94 2.06-2.06.94zm-11 1L8.5 8.5l.94-2.06 2.06-.94-2.06-.94L8.5 2.5l-.94 2.06-2.06.94zm10 10l.94 2.06.94-2.06 2.06-.94-2.06-.94-.94-2.06-.94 2.06-2.06.94z\"/><path d=\"M17.41 7.96l-1.37-1.37c-.4-.4-.92-.59-1.43-.59-.52 0-1.04.2-1.43.59L10.3 9.45l-7.72 7.72c-.78.78-.78 2.05 0 2.83L4 21.41c.39.39.9.59 1.41.59.51 0 1.02-.2 1.41-.59l7.78-7.78 2.81-2.81c.8-.78.8-2.07 0-2.86zM5.41 20L4 18.59l7.72-7.72 1.47 1.35L5.41 20z\"/>\n",
              "  </svg>\n",
              "      </button>\n",
              "      \n",
              "  <style>\n",
              "    .colab-df-container {\n",
              "      display:flex;\n",
              "      flex-wrap:wrap;\n",
              "      gap: 12px;\n",
              "    }\n",
              "\n",
              "    .colab-df-convert {\n",
              "      background-color: #E8F0FE;\n",
              "      border: none;\n",
              "      border-radius: 50%;\n",
              "      cursor: pointer;\n",
              "      display: none;\n",
              "      fill: #1967D2;\n",
              "      height: 32px;\n",
              "      padding: 0 0 0 0;\n",
              "      width: 32px;\n",
              "    }\n",
              "\n",
              "    .colab-df-convert:hover {\n",
              "      background-color: #E2EBFA;\n",
              "      box-shadow: 0px 1px 2px rgba(60, 64, 67, 0.3), 0px 1px 3px 1px rgba(60, 64, 67, 0.15);\n",
              "      fill: #174EA6;\n",
              "    }\n",
              "\n",
              "    [theme=dark] .colab-df-convert {\n",
              "      background-color: #3B4455;\n",
              "      fill: #D2E3FC;\n",
              "    }\n",
              "\n",
              "    [theme=dark] .colab-df-convert:hover {\n",
              "      background-color: #434B5C;\n",
              "      box-shadow: 0px 1px 3px 1px rgba(0, 0, 0, 0.15);\n",
              "      filter: drop-shadow(0px 1px 2px rgba(0, 0, 0, 0.3));\n",
              "      fill: #FFFFFF;\n",
              "    }\n",
              "  </style>\n",
              "\n",
              "      <script>\n",
              "        const buttonEl =\n",
              "          document.querySelector('#df-9142dac9-28d0-4ada-9168-918f25e2a07b button.colab-df-convert');\n",
              "        buttonEl.style.display =\n",
              "          google.colab.kernel.accessAllowed ? 'block' : 'none';\n",
              "\n",
              "        async function convertToInteractive(key) {\n",
              "          const element = document.querySelector('#df-9142dac9-28d0-4ada-9168-918f25e2a07b');\n",
              "          const dataTable =\n",
              "            await google.colab.kernel.invokeFunction('convertToInteractive',\n",
              "                                                     [key], {});\n",
              "          if (!dataTable) return;\n",
              "\n",
              "          const docLinkHtml = 'Like what you see? Visit the ' +\n",
              "            '<a target=\"_blank\" href=https://colab.research.google.com/notebooks/data_table.ipynb>data table notebook</a>'\n",
              "            + ' to learn more about interactive tables.';\n",
              "          element.innerHTML = '';\n",
              "          dataTable['output_type'] = 'display_data';\n",
              "          await google.colab.output.renderOutput(dataTable, element);\n",
              "          const docLink = document.createElement('div');\n",
              "          docLink.innerHTML = docLinkHtml;\n",
              "          element.appendChild(docLink);\n",
              "        }\n",
              "      </script>\n",
              "    </div>\n",
              "  </div>\n",
              "  "
            ]
          },
          "metadata": {},
          "execution_count": 7
        }
      ],
      "source": [
        "PATH = 'data/'\n",
        "df = pd.read_csv(PATH+'sonar-all-data.csv', header=None)\n",
        "df.columns = [f'feat_{col}' if col!=60 else 'target' for col in df.columns]\n",
        "df['target'] = df['target'].map({'M': 1, 'R': 0})\n",
        "df.head()"
      ]
    },
    {
      "cell_type": "markdown",
      "metadata": {
        "id": "VTfK8HvxbrHM"
      },
      "source": [
        "# Split data (train and test)"
      ]
    },
    {
      "cell_type": "code",
      "execution_count": 8,
      "metadata": {
        "id": "c10Xd3BAbrHM"
      },
      "outputs": [],
      "source": [
        "X_train, X_test, y_train, y_test = train_test_split(df.drop(columns='target'), df['target'], test_size=0.2, random_state=RANDOM_STATE)"
      ]
    },
    {
      "cell_type": "markdown",
      "metadata": {
        "id": "0tdf0IzabrHN"
      },
      "source": [
        "# Homework part 1. Implementation of Random Forest Classifier."
      ]
    },
    {
      "cell_type": "markdown",
      "metadata": {
        "id": "X-1lCSNabrHN"
      },
      "source": [
        "## Splitting criteria"
      ]
    },
    {
      "cell_type": "markdown",
      "metadata": {
        "id": "HuhjDlAFbrHN"
      },
      "source": [
        "**Task 1 - 2 points.** In this section you should implement two criteria for splitting of the feature space. Any of these can be used in the model."
      ]
    },
    {
      "cell_type": "markdown",
      "metadata": {
        "id": "4DyAUkGcbrHO"
      },
      "source": [
        "### Gini index"
      ]
    },
    {
      "cell_type": "markdown",
      "metadata": {
        "id": "YeVGu7bfbrHO"
      },
      "source": [
        "0.5 points for *gini_index* function"
      ]
    },
    {
      "cell_type": "code",
      "execution_count": 9,
      "metadata": {
        "id": "9nPZI7x8brHP"
      },
      "outputs": [],
      "source": [
        "def gini_index(x):\n",
        "    \"\"\" Calculate Gini Index for a node\n",
        "    Args:\n",
        "        x: Numpy-array of targets in a node\n",
        "    Returns:\n",
        "        float: Gini index\n",
        "    \"\"\"   \n",
        "    if len(x) == 0:\n",
        "        return 0.0\n",
        "    else: \n",
        "        data = pd.Series(x)\n",
        "        p = data.value_counts()/data.shape[0]\n",
        "        return 1 - (p**2).sum()"
      ]
    },
    {
      "cell_type": "code",
      "execution_count": 10,
      "metadata": {
        "colab": {
          "base_uri": "https://localhost:8080/"
        },
        "id": "70rTtR0ibrHP",
        "outputId": "2114dcde-d007-4b89-8d31-97b30dc9881f"
      },
      "outputs": [
        {
          "output_type": "stream",
          "name": "stdout",
          "text": [
            "\u001b[92m All good!\n"
          ]
        }
      ],
      "source": [
        "tests.test_gini_index(gini_index)"
      ]
    },
    {
      "cell_type": "markdown",
      "metadata": {
        "id": "MKp6issPbrHQ"
      },
      "source": [
        "0.5 points for *gini_gain* function"
      ]
    },
    {
      "cell_type": "code",
      "execution_count": 11,
      "metadata": {
        "id": "xSDmObPGbrHQ"
      },
      "outputs": [],
      "source": [
        "def gini_gain(parent_node, splits):\n",
        "    \"\"\" Calculate Gini Gain for a particular split\n",
        "    Args:\n",
        "        parent_node: Numpy-array of targets in a parent node\n",
        "        splits: List of two numpy-arrays. Each numpy-array is targets in a child node\n",
        "    Returns:\n",
        "        float: Gini gain\n",
        "    \"\"\"       \n",
        "    weight_1 = len(splits[0])/(len(splits[0]) + len(splits[1]))\n",
        "    weight_2 = len(splits[1])/(len(splits[0]) + len(splits[1]))\n",
        "    return  gini_index(parent_node) -  weight_1*gini_index(splits[0]) - weight_2*gini_index(splits[1])"
      ]
    },
    {
      "cell_type": "code",
      "execution_count": 12,
      "metadata": {
        "colab": {
          "base_uri": "https://localhost:8080/"
        },
        "id": "Qce83ibpbrHQ",
        "outputId": "c10fc5a5-15c4-45de-bede-9b6346b505f3"
      },
      "outputs": [
        {
          "output_type": "stream",
          "name": "stdout",
          "text": [
            "\u001b[92m All good!\n"
          ]
        }
      ],
      "source": [
        "tests.test_gini_gain(gini_gain)"
      ]
    },
    {
      "cell_type": "markdown",
      "metadata": {
        "id": "Qz7NCE5FbrHQ"
      },
      "source": [
        "### Entropy"
      ]
    },
    {
      "cell_type": "markdown",
      "metadata": {
        "id": "uWTiQTlvbrHQ"
      },
      "source": [
        "0.5 points for *entropy* function. WARNING! Use only natural logarithm np.log() for calculation."
      ]
    },
    {
      "cell_type": "code",
      "execution_count": 13,
      "metadata": {
        "id": "Zk2HN7aEbrHR"
      },
      "outputs": [],
      "source": [
        "def entropy(x):\n",
        "    \"\"\" Calculate Entropy for a node\n",
        "    Args:\n",
        "        x: Numpy-array of targets in a node\n",
        "    Returns:\n",
        "        float: Entropy\n",
        "    \"\"\"\n",
        "    # If you use vectorized operations on a vector of frequencies p\n",
        "    # where some of the relative frequencies may be 0, and you need to evaluate\n",
        "    # the expression p * np.log(p), you can use the \"where\" argument of the np.log() function.\n",
        "    # This will leave those elements of the array untouched by the function, \n",
        "    # thus evaluating x*log(x) as zero, exactly as we want it to be.\n",
        "    if len(set(x)) == 1:\n",
        "        return 0.0\n",
        "    else:\n",
        "        data = pd.Series(x)\n",
        "        p = data.value_counts()/data.shape[0]\n",
        "        return np.sum(-p*np.log(np.where(p == 0, 1, p)))"
      ]
    },
    {
      "cell_type": "code",
      "execution_count": 14,
      "metadata": {
        "colab": {
          "base_uri": "https://localhost:8080/"
        },
        "id": "QQGcYmhwbrHR",
        "outputId": "33592f4c-4f9a-44fa-cfd4-05da72b2c36f"
      },
      "outputs": [
        {
          "output_type": "stream",
          "name": "stdout",
          "text": [
            "\u001b[92m All good!\n"
          ]
        }
      ],
      "source": [
        "tests.test_entropy(entropy)"
      ]
    },
    {
      "cell_type": "markdown",
      "metadata": {
        "id": "ZsJp_7fFbrHR"
      },
      "source": [
        "0.5 points for *information_gain* function"
      ]
    },
    {
      "cell_type": "code",
      "execution_count": 15,
      "metadata": {
        "id": "cUIgfT81brHS"
      },
      "outputs": [],
      "source": [
        "def information_gain(parent_node, splits):\n",
        "    \"\"\" Calculate Information Gain for a particular split\n",
        "    Args:\n",
        "        parent_node: Numpy-array of targets in a parent node\n",
        "        splits: List of two numpy-arrays. Each numpy-array is targets in a child node\n",
        "    Returns:\n",
        "        float: Information Gain\n",
        "    \"\"\"     \n",
        "    weight_1 = len(splits[0])/(len(splits[0]) + len(splits[1]))\n",
        "    weight_2 = len(splits[1])/(len(splits[0]) + len(splits[1]))\n",
        "    return  entropy(parent_node) -  weight_1*entropy(splits[0]) - weight_2*entropy(splits[1])"
      ]
    },
    {
      "cell_type": "code",
      "execution_count": 16,
      "metadata": {
        "colab": {
          "base_uri": "https://localhost:8080/"
        },
        "id": "gIHmcCnibrHS",
        "outputId": "604b15f0-327f-4032-c9e5-b1863d54479d"
      },
      "outputs": [
        {
          "output_type": "stream",
          "name": "stdout",
          "text": [
            "\u001b[92m All good!\n"
          ]
        }
      ],
      "source": [
        "tests.test_information_gain(information_gain)"
      ]
    },
    {
      "cell_type": "markdown",
      "metadata": {
        "id": "yvWW18DabrHS"
      },
      "source": [
        "## Split function"
      ]
    },
    {
      "cell_type": "markdown",
      "metadata": {
        "id": "Kh504mqwbrHS"
      },
      "source": [
        "**Task 2 - 1 point** Implement *split_dataset* function. <br>\n",
        "The rows of the dataframe received by a tree node are split into two dataframes depending on their values in a selected column. Rows with values smaller than the chosen threshold are stored in the resulting left dataframe, and we save rows with values larger than the threshold in the right dataframe. The array with target values should be split in accordance with the feature dataframe."
      ]
    },
    {
      "cell_type": "code",
      "execution_count": 17,
      "metadata": {
        "id": "80-J4pSJbrHT"
      },
      "outputs": [],
      "source": [
        "def split(X, y, value):\n",
        "    \"\"\" Split y-values in order to calculate gain later\n",
        "    Args:\n",
        "        X: 1-dimensional numpy-array of data predictor with shape (N,)\n",
        "        y: 1-dimensional numpy-array of targets with shape (N,)\n",
        "        value (float): the value by which the X should be splitted\n",
        "    Returns:\n",
        "        Two 1-dimensional numpy-arrays with targets related to splits\n",
        "    \"\"\"      \n",
        "    left_mask = X < value\n",
        "    right_mask = X >= value\n",
        "    return y[left_mask], y[right_mask]\n",
        "\n",
        "\n",
        "def split_dataset(X, y, column, value):\n",
        "    \"\"\" Split dataset by a particular column and value\n",
        "    Args:\n",
        "        X: 2-dimensional numpy-array (N, num_feats). N-number of samples\n",
        "        y: 1-dimensional numpy-array of targets with shape (N,)  \n",
        "        column (int): the column by which the X should be splitted\n",
        "        value (float): the value by which the column should be splitted\n",
        "    Returns:\n",
        "        Two 2-dimensional numpy-arrays with data and two 1-dimensional numpy-arrays with targets related to splits\n",
        "        left_X, right_X, left_y, right_y\n",
        "    \"\"\"       \n",
        "    left_mask = X[:,column] < value\n",
        "    right_mask = X[:,column] >= value\n",
        "    left_y, right_y = y[left_mask], y[right_mask]\n",
        "    left_X, right_X = X[left_mask], X[right_mask]\n",
        "    return left_X, right_X, left_y, right_y"
      ]
    },
    {
      "cell_type": "code",
      "execution_count": 18,
      "metadata": {
        "colab": {
          "base_uri": "https://localhost:8080/"
        },
        "id": "Zh-MlPbMbrHT",
        "outputId": "82a817c7-4d97-494d-c2fb-885e527e54ec"
      },
      "outputs": [
        {
          "output_type": "stream",
          "name": "stdout",
          "text": [
            "\u001b[92m All good!\n"
          ]
        }
      ],
      "source": [
        "tests.test_split_dataset(split_dataset)"
      ]
    },
    {
      "cell_type": "markdown",
      "metadata": {
        "id": "P_8sKbpMbrHT"
      },
      "source": [
        "## Decision tree"
      ]
    },
    {
      "cell_type": "markdown",
      "metadata": {
        "id": "hiHAjdbXbrHT"
      },
      "source": [
        "**Task 3 - 4.5 points** In the Tree class below you need to complete the *fit(), predict_row()* and *predict()* functions.<br>\n",
        "Each tree is basically a tree node that may have a left and a right child that are also trees. If a tree doesn't have any child nodes, we call it a leaf.<br>\n",
        "Since features for splitting a dataframe are chosen randomly, we need a mechanism to control this randomness to aquire reproducibility for testing purposes. In our case we use the [Random Generator](https://numpy.org/doc/stable/reference/random/generator.html)<br>\n",
        "By creation of a tree only the **criterion** and the **rng** fields are not filled with Nones, so each tree knows what criterion for dataframe splitting it should use. Each fitted tree knows as well by which column and value the split should be performed. If a tree is a leaf it doesn't have information about the split, but stores the predicted value."
      ]
    },
    {
      "cell_type": "code",
      "execution_count": 19,
      "metadata": {
        "id": "p8JB83_SbrHT"
      },
      "outputs": [],
      "source": [
        "class Tree(object):\n",
        "    \"\"\"A decision tree classifier.\n",
        "\n",
        "    Args:\n",
        "        criterion : {\"gini\", \"entropy\"}, default=\"gini\"\n",
        "            The function to measure the quality of a split. Supported criteria are\n",
        "            \"gini\" for the Gini impurity and \"entropy\" for the information gain.\n",
        "        random_gen: numpy Random Generator object, default=None\n",
        "            Generator should be passed over for reproducible results. If None, \n",
        "            a new np.random.default_rng() will be created.\n",
        "    \"\"\"\n",
        "    def __init__(self, criterion='gini', random_gen=None):\n",
        "        if criterion not in [\"gini\", \"entropy\"]:\n",
        "            raise ValueError(f'Unknown criteria for splits {criterion}')\n",
        "        self.criterion = criterion\n",
        "        self.threshold = None         # value of the next split\n",
        "        self.column_index = None       # column to use for the next split\n",
        "        self.outcome_probs = None      # the predicted value if the tree is a leaf\n",
        "        self.left_child = None\n",
        "        self.right_child = None\n",
        "        self.rng = random_gen if random_gen is not None else np.random.default_rng()\n",
        "\n",
        "    @property\n",
        "    def is_terminal(self):\n",
        "        \"\"\"Define is it terminal node.\"\"\"          \n",
        "        return not bool(self.left_child and self.right_child)\n",
        "    \n",
        "    def _compute_gain(self, y, splits):\n",
        "        \"\"\"Compute split gain according to chosen criteria.\"\"\"\n",
        "        func = gini_gain if self.criterion == 'gini' else information_gain\n",
        "        return func(y, splits)\n",
        "\n",
        "    def _find_splits(self, X):\n",
        "        \"\"\"Find all possible split values.\"\"\"\n",
        "        split_values = set()\n",
        "\n",
        "        # Get unique values in a sorted order\n",
        "        x_unique = list(np.unique(X))\n",
        "        \n",
        "        for i in range(1, len(x_unique)):\n",
        "            # Find a point between two values\n",
        "            average = (x_unique[i - 1] + x_unique[i]) / 2.0\n",
        "            split_values.add(average)\n",
        "\n",
        "        return list(split_values)\n",
        "\n",
        "    def _find_best_split(self, X, y, n_features):\n",
        "        \"\"\"Find best feature and value for a split. Greedy algorithm.\"\"\"\n",
        "        # Sample random subset of features\n",
        "        subset = self.rng.choice(list(range(0, X.shape[1])), n_features, replace=False)\n",
        "       \n",
        "        max_gain, max_col, max_val = 0, 0, 0\n",
        "        \n",
        "        for column in subset:\n",
        "            \n",
        "            split_values = self._find_splits(X[:, column])\n",
        "           \n",
        "            for value in split_values:\n",
        "                splits = split(X[:, column], y, value)\n",
        "                gain = self._compute_gain(y, splits)\n",
        "\n",
        "                if (max_gain is None) or (gain > max_gain):\n",
        "                    max_col, max_val, max_gain = column, value, gain\n",
        "        return max_col, max_val, max_gain\n",
        "        \n",
        "    def _compute_outcome(self, y):\n",
        "        \"\"\"Save outcome probabilities for the leaf.\"\"\"\n",
        "        self.outcome_probs = np.around(np.sum(y) / y.shape[0])\n",
        "\n",
        "    def fit(self, X, y, feature_frac=1.0, max_depth=None):\n",
        "        \"\"\"Fit model.\n",
        "\n",
        "        Args:\n",
        "            X (numpy-array):      The training input samples. 2-dimensional numpy array.\n",
        "            y (numpy-array):      The target values. 1-dimensional numpy array.\n",
        "            feature_frac (float): The fraction of features to use when fit is performed. Must be \n",
        "                                  between 0.0 and 1.0 (default: 1.0, i.e. all features).\n",
        "            max_depth (int):      The maximum depth of the tree. If None, then nodes are expanded\n",
        "                                  until all leaves are pure.\n",
        "        \"\"\"\n",
        "        # 3 points\n",
        "        \n",
        "        \n",
        "        # Make this tree a leaf and return if max_depth doesn't allow it to grow further\n",
        "        if max_depth is not None and max_depth == 0:\n",
        "            return self._compute_outcome(y)\n",
        "        \n",
        "        if not 0.0 <= feature_frac <= 1.0:\n",
        "            raise ValueError('feature_frac must lie between 0.0 and 1.0')\n",
        "        # Compute the number of features to use. Should be integer number\n",
        "        n_features = int(X.shape[1]*feature_frac)\n",
        "        \n",
        "        # Find the next split    \n",
        "        column, value, gain = self._find_best_split(X, y, n_features)\n",
        "         \n",
        "        # Make this tree a leaf and return if the split doesn't bring any gain\n",
        "        if gain is None or gain == 0:\n",
        "            return self._compute_outcome(y)\n",
        "        \n",
        "        # Save the necessary information about the next split\n",
        "        self.threshold = value\n",
        "        self.column_index = column\n",
        "\n",
        "        \n",
        "        # Reduce the max_depth parameter for the next tree\n",
        "        if max_depth is not None:\n",
        "            max_depth -= 1\n",
        "            \n",
        "        # Split dataset\n",
        "        left_X, right_X, left_target, right_target = split_dataset(X, y, column, value)\n",
        "       \n",
        "        # Grow left and right child. Pass over the parent's random generator\n",
        "        # for reproducible results \n",
        "        self.left_child = Tree(random_gen=self.rng)\n",
        "        self.left_child.fit(left_X, left_target, feature_frac=feature_frac, max_depth=max_depth)\n",
        "        \n",
        "        self.right_child = Tree(random_gen=self.rng)\n",
        "        self.right_child.fit(right_X, right_target, feature_frac=feature_frac, max_depth=max_depth)\n",
        "        \n",
        "        return self.left_child, self.right_child\n",
        "       \n",
        "\n",
        "    def predict_row(self, row):\n",
        "        \"\"\"Predict single row.\"\"\"\n",
        "        # 0.5 points\n",
        "        \n",
        "        if not self.is_terminal:\n",
        "            # Use the stored information about the split to define \n",
        "            # if the right or the left child to use\n",
        "            if row[self.column_index] < self.threshold:\n",
        "                return self.left_child.predict_row(row) \n",
        "            else:\n",
        "                return self.right_child.predict_row(row)\n",
        "        return self.outcome_probs\n",
        "\n",
        "    def predict(self, X):\n",
        "        \"\"\"Make predictions.\n",
        "\n",
        "        Args:\n",
        "            X (numpy-array): The test input samples. 2-dimensional numpy array.\n",
        "        Returns:\n",
        "            1-dimensional numpy-array with predictions     \n",
        "        \"\"\" \n",
        "        # 1 point\n",
        "        \n",
        "        # Create a numpy array of zeros of necessary length to save predictions\n",
        "        result = np.zeros(X.shape[0])\n",
        "        # Go through all rows of the dataset\n",
        "        for i in range(X.shape[0]):\n",
        "            # Save the prediction for the current row\n",
        "            result[i] = self.predict_row(X[i,:])\n",
        "        return result"
      ]
    },
    {
      "cell_type": "code",
      "execution_count": 20,
      "metadata": {
        "id": "dbkbFT_iU_Wt"
      },
      "outputs": [],
      "source": [
        "tree = Tree(criterion='entropy', random_gen=np.random.default_rng(RANDOM_STATE))"
      ]
    },
    {
      "cell_type": "code",
      "execution_count": 25,
      "metadata": {
        "colab": {
          "base_uri": "https://localhost:8080/"
        },
        "id": "mPhfl4aqbrHU",
        "outputId": "0f3149d8-2afa-4a4c-c7c1-de6b463aed4a"
      },
      "outputs": [
        {
          "output_type": "stream",
          "name": "stdout",
          "text": [
            "\u001b[92m All good!\n"
          ]
        }
      ],
      "source": [
        "tests.test_tree(Tree)"
      ]
    },
    {
      "cell_type": "markdown",
      "metadata": {
        "id": "w5lRQPKmbrHU"
      },
      "source": [
        "**Task 4 - 1 point** Fit two models with \"max_depth=3\" and \"max_depth=None\" hyperparameters. **Explain** the results."
      ]
    },
    {
      "cell_type": "code",
      "execution_count": 26,
      "metadata": {
        "colab": {
          "base_uri": "https://localhost:8080/"
        },
        "id": "7Oll-k4CbrHU",
        "outputId": "a5362e89-876a-4792-fb42-6c3e4827fbff"
      },
      "outputs": [
        {
          "output_type": "stream",
          "name": "stdout",
          "text": [
            "0.6666666666666666\n"
          ]
        }
      ],
      "source": [
        "# Your code here\n",
        "clf_1 = Tree(criterion='gini')\n",
        "clf_1.fit(X_train.values, y_train.values, max_depth=3)\n",
        "y_pred = clf_1.predict(X_test.values)\n",
        "clf_1_accuracy = accuracy_score(y_test, clf_1.predict(X_test.values))\n",
        "print(clf_1_accuracy)"
      ]
    },
    {
      "cell_type": "code",
      "execution_count": 27,
      "metadata": {
        "colab": {
          "base_uri": "https://localhost:8080/"
        },
        "id": "c4ZQiVsIbrHU",
        "outputId": "796409a1-5d26-4c39-db24-6773649860f9"
      },
      "outputs": [
        {
          "output_type": "stream",
          "name": "stdout",
          "text": [
            "0.6666666666666666\n"
          ]
        }
      ],
      "source": [
        "# Your code here\n",
        "clf_2 = Tree(criterion='gini')\n",
        "clf_2.fit(X_train.values, y_train.values, max_depth=None)\n",
        "y_pred = clf_2.predict(X_test.values)\n",
        "clf_2_accuracy = accuracy_score(y_test, clf_2.predict(X_test.values))\n",
        "print(clf_2_accuracy)"
      ]
    },
    {
      "cell_type": "code",
      "source": [
        ""
      ],
      "metadata": {
        "id": "jzsiLS3Kuxm1"
      },
      "execution_count": null,
      "outputs": []
    },
    {
      "cell_type": "code",
      "execution_count": 28,
      "metadata": {
        "id": "QvXeLV2_brHV"
      },
      "outputs": [],
      "source": [
        "def plot_metrics_on_depths(criterion='gini'):\n",
        "    max_depths, train_scores, test_scores = [], [], []\n",
        "    for max_depth in range(0, 8):\n",
        "        max_depths.append(max_depth)\n",
        "        model = Tree(criterion=criterion)\n",
        "        model.fit(X_train.values, y_train.values, max_depth=max_depth)\n",
        "        train_scores.append(accuracy_score(y_train, model.predict(X_train.values)))\n",
        "        y_pred = model.predict(X_test.values)\n",
        "        test_scores.append(accuracy_score(y_test, y_pred))\n",
        "    res_metrics = pd.DataFrame(data={'train': train_scores, 'test': test_scores}, index=max_depths)\n",
        "    sns.set(rc={'figure.figsize':(16, 6)})\n",
        "    plt.plot(res_metrics['train'], label='train score')\n",
        "    plt.plot(res_metrics['test'], label='test score')\n",
        "    plt.title(\"Accuracy as a function of max_depth\")\n",
        "    plt.xlabel('max_depth')\n",
        "    plt.ylabel('accuracy')\n",
        "    plt.legend()\n",
        "    plt.show();"
      ]
    },
    {
      "cell_type": "code",
      "execution_count": 29,
      "metadata": {
        "colab": {
          "base_uri": "https://localhost:8080/",
          "height": 410
        },
        "id": "UiyUo7-XbrHV",
        "outputId": "0909bcb6-7715-47d0-e6d2-21dbbdb41184"
      },
      "outputs": [
        {
          "output_type": "display_data",
          "data": {
            "text/plain": [
              "<Figure size 1152x432 with 1 Axes>"
            ],
            "image/png": "[encoded data removed]"
          },
          "metadata": {}
        }
      ],
      "source": [
        "plot_metrics_on_depths('gini')"
      ]
    },
    {
      "cell_type": "code",
      "execution_count": 30,
      "metadata": {
        "colab": {
          "base_uri": "https://localhost:8080/",
          "height": 410
        },
        "id": "op_uQtrLbrHV",
        "outputId": "a409fcd5-259a-4dca-a991-158419fcd976"
      },
      "outputs": [
        {
          "output_type": "display_data",
          "data": {
            "text/plain": [
              "<Figure size 1152x432 with 1 Axes>"
            ],
            "image/png": "[encoded data removed]"
          },
          "metadata": {}
        }
      ],
      "source": [
        "plot_metrics_on_depths('entropy')"
      ]
    },
    {
      "cell_type": "markdown",
      "metadata": {
        "id": "qqqrMEFqbrHV"
      },
      "source": [
        "## Random forest"
      ]
    },
    {
      "cell_type": "markdown",
      "metadata": {
        "id": "uijkQF4ybrHV"
      },
      "source": [
        "**Task 5 - 1.5 Points** In the RandomForestClassifier class below you need to complete the *fit* and *predict()* functions"
      ]
    },
    {
      "cell_type": "code",
      "execution_count": 31,
      "metadata": {
        "id": "NQyWZBvebrHV"
      },
      "outputs": [],
      "source": [
        "class RandomForestClassifier(object):\n",
        "    \"\"\"\n",
        "    A random forest classifier.\n",
        "    A random forest is a meta estimator that fits a number of decision tree\n",
        "    classifiers on various sub-samples of the dataset and uses averaging to\n",
        "    improve the predictive accuracy and control overfitting.\n",
        "    \n",
        "    Args:\n",
        "        n_estimators : int, default=10\n",
        "            The number of trees in the forest.\n",
        "\n",
        "        max_depth : int, default=None\n",
        "            The maximum depth of the tree. If None, then nodes are expanded until\n",
        "            all leaves are pure.        \n",
        "\n",
        "        feature_frac : float, default=None\n",
        "            The fraction of features to use when looking for the best split. Must be \n",
        "            between 0.0 and 1.0. If None, then `feature_frac = 1 / sqrt(n_features)`.\n",
        "\n",
        "        criterion : {\"gini\", \"entropy\"}, default=\"gini\"\n",
        "            The function to measure the quality of a split. Supported criteria are\n",
        "            \"gini\" for the Gini impurity and \"entropy\" for the information gain.\n",
        "            \n",
        "        random_gen: numpy Random Generator object, default=None\n",
        "            Generator should be passed over for reproducible results. If None, \n",
        "            a new np.random.default_rng() will be created.\n",
        "    \"\"\"\n",
        "\n",
        "    def __init__(self, n_estimators=10, max_depth=None, feature_frac=None, \n",
        "                 criterion=\"entropy\", bootstrap=True, random_gen=None):\n",
        "        self.n_estimators = n_estimators\n",
        "        self.max_depth = max_depth\n",
        "        self.bootstrap = bootstrap\n",
        "        self.feature_frac = feature_frac\n",
        "        \n",
        "        if criterion not in [\"gini\", \"entropy\"]:\n",
        "            raise ValueError(f'Unknown criteria for splits {criterion}')\n",
        "        self.criterion = criterion\n",
        "        \n",
        "        self.rng = random_gen if random_gen is not None else np.random.default_rng()\n",
        "        self.trees = [Tree(criterion=self.criterion, random_gen=self.rng) \n",
        "                            for _ in range(n_estimators)]\n",
        "        \n",
        "    def _init_data(self, X, y):\n",
        "        \"\"\"Ensure data are in the expected format.\n",
        "        Ensures X and y are stored as numpy ndarrays by converting from an\n",
        "        array-like object if necessary. \n",
        "        Parameters\n",
        "        Args:\n",
        "            X : array-like\n",
        "                Feature dataset.\n",
        "            y : array-like, default=None\n",
        "                Target values. By default is required, but if y_required = false\n",
        "                then may be omitted.\n",
        "        \"\"\"\n",
        "        self.size = len(X)\n",
        "        \n",
        "        if not isinstance(X, np.ndarray):\n",
        "            self.X = np.array(X)\n",
        "        else:\n",
        "            self.X = X\n",
        "\n",
        "        if not isinstance(y, np.ndarray):\n",
        "            self.y = np.array(y)\n",
        "        else:\n",
        "            self.y = y\n",
        "            \n",
        "    def bootstrap_data(self, size):\n",
        "        return self.rng.integers(size, size=size)\n",
        "    \n",
        "    def fit(self, X, y):\n",
        "        \"\"\"Fit model.\n",
        "\n",
        "        Args:\n",
        "            X (numpy-array): The training input samples. 2-dimensional numpy array.\n",
        "            y (numpy-array): The target values. 1-dimensional numpy array.\n",
        "        \"\"\"\n",
        "        # 0.5 points\n",
        "        \n",
        "        if self.feature_frac is None:\n",
        "            self.feature_frac = 1 / np.sqrt(X.shape[1])\n",
        "        elif not 0.0 <= self.feature_frac <= 1.0:\n",
        "            raise ValueError('feature_frac must lie between 0.0 and 1.0')\n",
        "            \n",
        "        self._init_data(X, y)\n",
        "        \n",
        "        # Iterate over all trees in the forest\n",
        "        for tree in None:\n",
        "            if self.bootstrap:\n",
        "                idxs = self.bootstrap_data(self.size)\n",
        "                X = self.X[idxs]\n",
        "                y = self.y[idxs]\n",
        "            else:\n",
        "                X = self.X\n",
        "                y = self.y\n",
        "                \n",
        "            # Fit the tree    \n",
        "            pass\n",
        "            \n",
        "    def predict(self, X):\n",
        "        \"\"\"Make predictions.\n",
        "\n",
        "        Args:\n",
        "            X (numpy-array): The test data input samples. 2-dimensional numpy array.\n",
        "        \"\"\"\n",
        "        # 1 point\n",
        "        \n",
        "        if not isinstance(X, np.ndarray):\n",
        "            X = np.array(X)\n",
        "\n",
        "        if self.X is not None:\n",
        "            # Create a numpy array of zeros of necessary length\n",
        "            predictions = None\n",
        "            # Go through all rows of the dataset\n",
        "            for i in None:\n",
        "                # Initialize a counter for voting\n",
        "                row_pred = None\n",
        "                # Sum up predictions from all the voters\n",
        "                for tree in None:\n",
        "                    pass\n",
        "                # Compute the mean of the votes    \n",
        "                row_pred = None\n",
        "                # Save the rounded value as the prediction for the current row\n",
        "                pass\n",
        "            return predictions  \n",
        "        else:\n",
        "            raise ValueError(\"You should fit a model before `predict`\")"
      ]
    },
    {
      "cell_type": "code",
      "execution_count": 32,
      "metadata": {
        "id": "ZI7-PgiqbrHW",
        "colab": {
          "base_uri": "https://localhost:8080/",
          "height": 317
        },
        "outputId": "bf4b2142-e3c8-42d5-d8a7-194654abd9ec"
      },
      "outputs": [
        {
          "output_type": "error",
          "ename": "TypeError",
          "evalue": "ignored",
          "traceback": [
            "\u001b[0;31m---------------------------------------------------------------------------\u001b[0m",
            "\u001b[0;31mTypeError\u001b[0m                                 Traceback (most recent call last)",
            "\u001b[0;32m<ipython-input-32-5b6aeea7291a>\u001b[0m in \u001b[0;36m<module>\u001b[0;34m()\u001b[0m\n\u001b[0;32m----> 1\u001b[0;31m \u001b[0mtests\u001b[0m\u001b[0;34m.\u001b[0m\u001b[0mtest_random_forest\u001b[0m\u001b[0;34m(\u001b[0m\u001b[0mRandomForestClassifier\u001b[0m\u001b[0;34m)\u001b[0m\u001b[0;34m\u001b[0m\u001b[0;34m\u001b[0m\u001b[0m\n\u001b[0m",
            "\u001b[0;32m/content/tests.py\u001b[0m in \u001b[0;36mtest_random_forest\u001b[0;34m(clf)\u001b[0m\n\u001b[1;32m    176\u001b[0m     model = clf(n_estimators=10, max_depth=4, feature_frac=None,\n\u001b[1;32m    177\u001b[0m                                    criterion=\"entropy\", random_gen=rng)\n\u001b[0;32m--> 178\u001b[0;31m     \u001b[0mmodel\u001b[0m\u001b[0;34m.\u001b[0m\u001b[0mfit\u001b[0m\u001b[0;34m(\u001b[0m\u001b[0mX_train\u001b[0m\u001b[0;34m,\u001b[0m \u001b[0my_train\u001b[0m\u001b[0;34m)\u001b[0m\u001b[0;34m\u001b[0m\u001b[0;34m\u001b[0m\u001b[0m\n\u001b[0m\u001b[1;32m    179\u001b[0m \u001b[0;34m\u001b[0m\u001b[0m\n\u001b[1;32m    180\u001b[0m     assert np.allclose([sum_up_forest_values(model, field) for field in\n",
            "\u001b[0;32m<ipython-input-31-ce76d093ff1f>\u001b[0m in \u001b[0;36mfit\u001b[0;34m(self, X, y)\u001b[0m\n\u001b[1;32m     86\u001b[0m \u001b[0;34m\u001b[0m\u001b[0m\n\u001b[1;32m     87\u001b[0m         \u001b[0;31m# Iterate over all trees in the forest\u001b[0m\u001b[0;34m\u001b[0m\u001b[0;34m\u001b[0m\u001b[0;34m\u001b[0m\u001b[0m\n\u001b[0;32m---> 88\u001b[0;31m         \u001b[0;32mfor\u001b[0m \u001b[0mtree\u001b[0m \u001b[0;32min\u001b[0m \u001b[0;32mNone\u001b[0m\u001b[0;34m:\u001b[0m\u001b[0;34m\u001b[0m\u001b[0;34m\u001b[0m\u001b[0m\n\u001b[0m\u001b[1;32m     89\u001b[0m             \u001b[0;32mif\u001b[0m \u001b[0mself\u001b[0m\u001b[0;34m.\u001b[0m\u001b[0mbootstrap\u001b[0m\u001b[0;34m:\u001b[0m\u001b[0;34m\u001b[0m\u001b[0;34m\u001b[0m\u001b[0m\n\u001b[1;32m     90\u001b[0m                 \u001b[0midxs\u001b[0m \u001b[0;34m=\u001b[0m \u001b[0mself\u001b[0m\u001b[0;34m.\u001b[0m\u001b[0mbootstrap_data\u001b[0m\u001b[0;34m(\u001b[0m\u001b[0mself\u001b[0m\u001b[0;34m.\u001b[0m\u001b[0msize\u001b[0m\u001b[0;34m)\u001b[0m\u001b[0;34m\u001b[0m\u001b[0;34m\u001b[0m\u001b[0m\n",
            "\u001b[0;31mTypeError\u001b[0m: 'NoneType' object is not iterable"
          ]
        }
      ],
      "source": [
        "tests.test_random_forest(RandomForestClassifier)"
      ]
    },
    {
      "cell_type": "markdown",
      "metadata": {
        "id": "amlwgmiybrHW"
      },
      "source": [
        "**Task 6 - 1 Point** Fit two models with \"n_estimators=10\" and \"n_estimators=100\" hyperparameters. **Explain** the results."
      ]
    },
    {
      "cell_type": "code",
      "execution_count": null,
      "metadata": {
        "id": "Yrbq12RvbrHW"
      },
      "outputs": [],
      "source": [
        "# Your code here"
      ]
    },
    {
      "cell_type": "code",
      "execution_count": null,
      "metadata": {
        "id": "RoMCqk7WbrHW"
      },
      "outputs": [],
      "source": [
        "# Your code here"
      ]
    },
    {
      "cell_type": "markdown",
      "metadata": {
        "id": "OAFN8a1XbrHW"
      },
      "source": [
        "Now it's your turn to explore the various parameters of RandomForestClassifier and their influence on model quality."
      ]
    },
    {
      "cell_type": "markdown",
      "metadata": {
        "id": "pum2UnXNbrHW"
      },
      "source": [
        "# Homework part 2. Random Forest in action"
      ]
    },
    {
      "cell_type": "markdown",
      "metadata": {
        "id": "TtHbdHxobrHX"
      },
      "source": [
        "_Note_: Consider **accuracy** as main metric of model performance on this dataset."
      ]
    },
    {
      "cell_type": "markdown",
      "metadata": {
        "id": "N0k5U9mKbrHX"
      },
      "source": [
        "_Note_: For tasks 1 to 5 please use your custom RandomForestClassifier if it is completed."
      ]
    },
    {
      "cell_type": "markdown",
      "metadata": {
        "id": "2FpfrFYtbrHX"
      },
      "source": [
        "**Task 1 (0.5 points)** Split the dataset into train, test and validation parts (0.6 / 0.2 / 0.2). First two will be used for model hyperparameter tuning whereas the best model quality should be evaluated on validation part."
      ]
    },
    {
      "cell_type": "code",
      "execution_count": null,
      "metadata": {
        "id": "gr2KKaY1brHX"
      },
      "outputs": [],
      "source": [
        "# Your code here\n"
      ]
    },
    {
      "cell_type": "markdown",
      "metadata": {
        "id": "Ans_3Ra-brHX"
      },
      "source": [
        "### Grid Search and Random Search"
      ]
    },
    {
      "cell_type": "markdown",
      "metadata": {
        "id": "cUH-QcFdbrHX"
      },
      "source": [
        "If you have enough computational power for model training in a reasonable amount of time more sophisticated approach of hyperparameter tuning would be either Grid Search or Random Search.<br>\n",
        "\n",
        "In a nutshell Grid Search allows you to pass through all different combinations of given model parameters and their values and choose the best combination. Whereas Random Search would randomly choose values for given model parameters and evaluate them on test data untill it reaches the specified number of iterations.<br>\n",
        "\n",
        "More information here [Gentle introduction to Grid and Random search](https://medium.com/@senapati.dipak97/grid-search-vs-random-search-d34c92946318) and here [Detailed Explanation with code examples](https://machinelearningmastery.com/hyperparameter-optimization-with-random-search-and-grid-search/)."
      ]
    },
    {
      "cell_type": "markdown",
      "metadata": {
        "id": "Ys_zJKKYbrHX"
      },
      "source": [
        "![image.png](data:image/png;base64,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)!"
      ]
    },
    {
      "cell_type": "markdown",
      "metadata": {
        "id": "BVZnxDRsbrHX"
      },
      "source": [
        "**Task 3 (1 point)**. Compare your previous results with [GridSearch](https://scikit-learn.org/stable/modules/generated/sklearn.model_selection.GridSearchCV.html) hyperparameter tuning. You may tune best hyperparameters for forest with several trees and then increase it while measure the quality on validation dataset."
      ]
    },
    {
      "cell_type": "code",
      "execution_count": null,
      "metadata": {
        "id": "zIXjogBYbrHY"
      },
      "outputs": [],
      "source": [
        "# Your code here"
      ]
    },
    {
      "cell_type": "markdown",
      "metadata": {
        "id": "un2OZv7fbrHY"
      },
      "source": [
        "**Task 4 (1 point)**. And finally tune forest hyperparameters with [RandomSearch](https://scikit-learn.org/stable/modules/generated/sklearn.model_selection.RandomizedSearchCV.html). Compare results to previous attempts."
      ]
    },
    {
      "cell_type": "code",
      "execution_count": null,
      "metadata": {
        "id": "_MxeSTMQbrHY"
      },
      "outputs": [],
      "source": [
        "# Your code here"
      ]
    },
    {
      "cell_type": "markdown",
      "metadata": {
        "id": "UnUX9JtGbrHY"
      },
      "source": [
        "**Task 5 (0.5 points)**. Tell us about your experience in hyperparameter tuning with the approaches above. What do you think would be the best option for this task and why?"
      ]
    },
    {
      "cell_type": "markdown",
      "metadata": {
        "id": "EHHp-SXZbrHY"
      },
      "source": [
        "Your cool ideas here..."
      ]
    },
    {
      "cell_type": "markdown",
      "metadata": {
        "id": "jx8yU1ZhbrHY"
      },
      "source": [
        "### Desicion tree explained"
      ]
    },
    {
      "cell_type": "markdown",
      "metadata": {
        "id": "3P1nK7wsbrHY"
      },
      "source": [
        "Remember the [Titanic](https://www.kaggle.com/c/titanic) competition from last week? Wouldn't be a good idea to visualize one of possible desicion-making processes of _survived_ / _dead_ labeling?"
      ]
    },
    {
      "cell_type": "markdown",
      "metadata": {
        "id": "-8mA9HLgbrHY"
      },
      "source": [
        "**Task 6 (1 point)**. Load titanic dataset, split it into train/test parts, apply simple hyperparameter tuning of [DesicionTreeClassifier](https://scikit-learn.org/stable/modules/generated/sklearn.tree.DecisionTreeClassifier.html) (use one of the approaches above) in order to have **test accuracy more than 0.65**. <br>\n",
        "\n",
        "Draw the best tree decision making process. You may use [sklearn.tree.prot_tree](https://scikit-learn.org/stable/modules/generated/sklearn.tree.plot_tree.html).<br>"
      ]
    },
    {
      "cell_type": "code",
      "execution_count": null,
      "metadata": {
        "id": "qlfEHprAbrHY"
      },
      "outputs": [],
      "source": [
        "from sklearn.tree import DecisionTreeClassifier\n",
        "\n",
        "# your code here"
      ]
    },
    {
      "cell_type": "markdown",
      "metadata": {
        "id": "fX_DiRmebrHY"
      },
      "source": [
        "Is it easy to interpret its results? Are you able to explain to a random person why would they survive / die on the titanic?"
      ]
    }
  ],
  "metadata": {
    "colab": {
      "collapsed_sections": [],
      "name": "rf_classifier.ipynb",
      "provenance": []
    },
    "kernelspec": {
      "display_name": "Python 3",
      "language": "python",
      "name": "python3"
    },
    "language_info": {
      "codemirror_mode": {
        "name": "ipython",
        "version": 3
      },
      "file_extension": ".py",
      "mimetype": "text/x-python",
      "name": "python",
      "nbconvert_exporter": "python",
      "pygments_lexer": "ipython3",
      "version": "3.7.7"
    },
    "toc": {
      "base_numbering": 1,
      "nav_menu": {},
      "number_sections": true,
      "sideBar": true,
      "skip_h1_title": false,
      "title_cell": "Table of Contents",
      "title_sidebar": "Contents",
      "toc_cell": false,
      "toc_position": {
        "height": "calc(100% - 180px)",
        "left": "10px",
        "top": "150px",
        "width": "235px"
      },
      "toc_section_display": true,
      "toc_window_display": true
    }
  },
  "nbformat": 4,
  "nbformat_minor": 0
}