{
  "cells": [
    {
      "cell_type": "markdown",
      "metadata": {
        "id": "KQJXbwpkgK1c"
      },
      "source": [
        "# Classification. Linear models and KNN"
      ]
    },
    {
      "cell_type": "code",
      "execution_count": 1,
      "metadata": {
        "id": "fgc98CWcgK1f"
      },
      "outputs": [],
      "source": [
        "import os\n",
        "import numpy as np\n",
        "import pandas as pd\n",
        "import seaborn as sns\n",
        "import matplotlib.pyplot as plt"
      ]
    },
    {
      "cell_type": "code",
      "execution_count": 2,
      "metadata": {
        "id": "0Ketl0gagK1h"
      },
      "outputs": [],
      "source": [
        "from sklearn.pipeline import Pipeline\n",
        "from sklearn.compose import ColumnTransformer\n",
        "from sklearn.model_selection import train_test_split, cross_validate\n",
        "from sklearn.metrics import plot_confusion_matrix, accuracy_score\n",
        "from sklearn.neighbors import KNeighborsClassifier\n",
        "from sklearn.preprocessing import StandardScaler, OneHotEncoder"
      ]
    },
    {
      "cell_type": "markdown",
      "metadata": {
        "id": "qnUiRlo0gK1i"
      },
      "source": [
        "## Part 1: Implementing Logistic Regression"
      ]
    },
    {
      "cell_type": "markdown",
      "metadata": {
        "id": "NdjnqERlgK1i"
      },
      "source": [
        "In this task you need to implement Logistic Regression with l2 regularization using gradient descent algorithm."
      ]
    },
    {
      "cell_type": "markdown",
      "metadata": {
        "id": "BwjklnDIgK1j"
      },
      "source": [
        "Logistic Regression loss:\n",
        "$$ L(w) = \\dfrac{1}{N}\\sum_{i=1}^N \\log(1 + e^{-\\langle w, x_i \\rangle y_i}) + \\frac{1}{2C} \\lVert w \\rVert^2  \\to \\min_w$$\n",
        "$$\\langle w, x_i \\rangle = \\sum_{j=1}^n w_{j}x_{ij} + w_{0},$$ $$ y_{i} \\in \\{-1, 1\\}$$ where $n$ is the number of features and $N$ is the number of samples."
      ]
    },
    {
      "cell_type": "markdown",
      "metadata": {
        "id": "CvqsCcxEgK1j"
      },
      "source": [
        "Gradient descent step:\n",
        "$$w^{(t+1)} := w^{(t)} + \\dfrac{\\eta}{N}\\sum_{i=1}^N y_ix_i \\Big(1 - \\dfrac{1}{1 + exp(-\\langle w^{(t)}, x_i \\rangle y_i)}\\Big) - \\eta \\frac{1}{C} w,$$\n",
        "where $\\eta$ is the learning rate."
      ]
    },
    {
      "cell_type": "markdown",
      "metadata": {
        "id": "axYg1MqqgK1k"
      },
      "source": [
        "**(2 points)** Implement the algorithm and use it to classify the digits (https://scikit-learn.org/stable/modules/generated/sklearn.datasets.load_digits.html) into \"even\" and \"odd\" categories. \"Even\" and \"Odd\" classes  should correspond to {-1, 1} labels."
      ]
    },
    {
      "cell_type": "markdown",
      "metadata": {
        "id": "xZusk8YPgK1l"
      },
      "source": [
        "Stopping criteria: either the number of iterations exceeds *max_iter* or $||w^{(t+1)} - w^{(t)}||_2 < tol$."
      ]
    },
    {
      "cell_type": "code",
      "execution_count": 3,
      "metadata": {
        "id": "YAFdVoLTgK1m"
      },
      "outputs": [],
      "source": [
        "from sklearn.exceptions import NotFittedError"
      ]
    },
    {
      "cell_type": "code",
      "execution_count": 4,
      "metadata": {
        "id": "B0_VhrdFgK1n"
      },
      "outputs": [],
      "source": [
        "class CustomLogisticRegression:\n",
        "    _estimator_type = \"classifier\"\n",
        "    \n",
        "    def __init__(self, eta=0.001, max_iter=1000, C=1.0, tol=1e-5, random_state=42, zero_init=False):\n",
        "        \"\"\"Logistic Regression classifier.\n",
        "        \n",
        "        Args:\n",
        "            eta: float, default=0.001\n",
        "                Learning rate.\n",
        "            max_iter: int, default=1000\n",
        "                Maximum number of iterations taken for the solvers to converge.\n",
        "            C: float, default=1.0\n",
        "                Inverse of regularization strength; must be a positive float.\n",
        "                Smaller values specify stronger regularization.\n",
        "            tol: float, default=1e-5\n",
        "                Tolerance for stopping criteria.\n",
        "            random_state: int, default=42\n",
        "                Random state.\n",
        "            zero_init: bool, default=False\n",
        "                Zero weight initialization.\n",
        "        \"\"\"\n",
        "        self.eta = eta\n",
        "        self.max_iter = max_iter\n",
        "        self.C = C\n",
        "        self.tol = tol\n",
        "        self.random_state = np.random.RandomState(seed=random_state)\n",
        "        self.zero_init = zero_init\n",
        "         \n",
        "    def get_sigmoid(self, X, weights):\n",
        "        \"\"\"Compute the sigmoid value.\"\"\"\n",
        "        # <your code>\n",
        "        return 1/(1 + np.exp(-X@weights))\n",
        "    \n",
        "    def get_loss(self, x, weights, y):\n",
        "        \"\"\"Calculate the loss.\"\"\"\n",
        "        # <your code>\n",
        "        x_ext = np.hstack([np.ones((x.shape[0], 1)), x])\n",
        "        return 1/y.shape[0]*np.sum(np.log(1 +np.exp( - np.dot(x,weights)*y)))+ 1/(2*self.C)*np.linalg.norm(weights,ord=2)\n",
        "     \n",
        "    def fit(self, X, y):\n",
        "        \"\"\"Fit the model.\n",
        "        \n",
        "        Args:\n",
        "            X: numpy array of shape (n_samples, n_features)\n",
        "            y: numpy array of shape (n_samples,)\n",
        "                Target vector.        \n",
        "        \"\"\"\n",
        "        X_ext = np.hstack([np.ones((X.shape[0], 1)), X]) # a constant feature is included to handle intercept\n",
        "        num_features = X_ext.shape[1]\n",
        "        if self.zero_init:\n",
        "            self.weights_ = np.zeros(num_features) \n",
        "        else:\n",
        "            weight_threshold = 1.0 / (2 * num_features)\n",
        "            self.weights_ = self.random_state.uniform(low=-weight_threshold,\n",
        "                                                      high=weight_threshold, size=num_features) # random weight initialization\n",
        "        \n",
        "        self.losses = []\n",
        "        self.avg_weights = []\n",
        "        N = X_ext.shape[0]\n",
        "        \n",
        "        for i in range(self.max_iter):\n",
        "            delta = np.zeros(65)\n",
        "            for j in range(N):\n",
        "                delta += (y[j]*X_ext[j]*(1 - 1/(1 + np.exp(-(np.dot(self.weights_, X_ext[j])*y[j])))))\n",
        "            delta =    1/self.C*self.weights_ - 1/N*delta\n",
        "            self.weights_ -= self.eta * delta  \n",
        "            self.avg_weights.append(self.weights_.mean())\n",
        "            self.losses.append(self.get_loss(X_ext, self.weights_, y))\n",
        "            norm_delta = np.linalg.norm(self.eta*delta, ord=2)\n",
        "            if norm_delta < self.tol:\n",
        "                break\n",
        "            \n",
        "     \n",
        "    def predict_proba(self, X):\n",
        "        \"\"\"Predict positive class probabilities.\n",
        "        \n",
        "        Args:\n",
        "            X: numpy array of shape (n_samples, n_features)\n",
        "        Returns:\n",
        "            y: numpy array of shape (n_samples,)\n",
        "                Vector containing positive class probabilities.\n",
        "        \"\"\"\n",
        "        X_ext = np.hstack([np.ones((X.shape[0], 1)), X])\n",
        "        if hasattr(self, 'weights_'):\n",
        "            return self.get_sigmoid(X_ext, self.weights_)\n",
        "        else: \n",
        "            raise NotFittedError(\"CustomLogisticRegression instance is not fitted yet\")\n",
        "    \n",
        "    def predict(self, X):\n",
        "        \"\"\"Predict classes.\n",
        "        \n",
        "        Args:\n",
        "            X: numpy array of shape (n_samples, n_features)\n",
        "        Returns:\n",
        "            y: numpy array of shape (n_samples,)\n",
        "                Vector containing predicted class labels.\n",
        "        \"\"\"\n",
        "        # <your code>\n",
        "        \n",
        "        X_ext = np.hstack([np.ones((X.shape[0], 1)), X])\n",
        "        y = self.get_sigmoid(X_ext, self.weights_)\n",
        "        return np.where(y>0.5, 1,-1)"
      ]
    },
    {
      "cell_type": "code",
      "execution_count": 5,
      "metadata": {
        "id": "ZK6qTJB6gK1o"
      },
      "outputs": [],
      "source": [
        "from sklearn import datasets\n",
        "from sklearn import metrics"
      ]
    },
    {
      "cell_type": "code",
      "execution_count": 6,
      "metadata": {
        "colab": {
          "base_uri": "https://localhost:8080/",
          "height": 307
        },
        "id": "_2hchh0ogK1o",
        "outputId": "9cbb0f1c-26e0-4f0e-ffc1-70fae120fee9"
      },
      "outputs": [
        {
          "output_type": "display_data",
          "data": {
            "text/plain": [
              "<Figure size 720x360 with 21 Axes>"
            ],
            "image/png": "[encoded data removed]"
          },
          "metadata": {
            "needs_background": "light"
          }
        }
      ],
      "source": [
        "X, y = datasets.load_digits(n_class=10, return_X_y=True)\n",
        "\n",
        "_, axes = plt.subplots(nrows=3, ncols=7, figsize=(10, 5))\n",
        "for ax, image, label in zip(axes.flatten(), X, y):\n",
        "    ax.set_axis_off()\n",
        "    ax.imshow(image.reshape((8, 8)), cmap=plt.cm.gray_r if label % 2 else plt.cm.afmhot_r)\n",
        "    ax.set_title(label)\n",
        "\n",
        "X_train, X_test, y_train, y_test = train_test_split(X, y, test_size=0.2, shuffle=True, random_state=42)\n",
        "#y_train = \"<your code>\"\n",
        "#y_test = \"<your code>\"\n",
        "y_train = (y_train % 2) * 2 - 1\n",
        "y_test = (y_test % 2) * 2 - 1"
      ]
    },
    {
      "cell_type": "code",
      "execution_count": 7,
      "metadata": {
        "id": "R6g5b8gzgK1p"
      },
      "outputs": [],
      "source": [
        "assert (np.unique(y_train) == [-1, 1]).all()\n",
        "assert (np.unique(y_test) == [-1, 1]).all()"
      ]
    },
    {
      "cell_type": "code",
      "execution_count": 8,
      "metadata": {
        "id": "F0WcnbrkgK1p"
      },
      "outputs": [],
      "source": [
        "def fit_evaluate(clf, X_train, y_train, X_test, y_test):\n",
        "    clf.fit(X_train, y_train)\n",
        "    disp = metrics.plot_confusion_matrix(clf, X_test, y_test, normalize='true')\n",
        "    disp.figure_.suptitle(\"Confusion Matrix\")\n",
        "    plt.show()\n",
        "    \n",
        "    return metrics.accuracy_score(y_pred=clf.predict(X_train), y_true=y_train), \\\n",
        "           metrics.accuracy_score(y_pred=clf.predict(X_test), y_true=y_test)"
      ]
    },
    {
      "cell_type": "code",
      "execution_count": 9,
      "metadata": {
        "id": "lhmGrc2YgK1p"
      },
      "outputs": [],
      "source": [
        "lr_clf = CustomLogisticRegression(max_iter=1, zero_init=True)"
      ]
    },
    {
      "cell_type": "code",
      "execution_count": 10,
      "metadata": {
        "id": "BcT_ZjLEgK1q"
      },
      "outputs": [],
      "source": [
        "assert np.allclose(lr_clf.get_sigmoid(np.array([[0.5, 0, 1.0], [0.3, 1.3, 1.0]]), np.array([0.5, -0.5, 0.1])),\n",
        "                   np.array([0.58662, 0.40131]))"
      ]
    },
    {
      "cell_type": "code",
      "execution_count": 11,
      "metadata": {
        "id": "n9U6sgXogK1q"
      },
      "outputs": [],
      "source": [
        "lr_clf.fit(X_train, y_train)"
      ]
    },
    {
      "cell_type": "code",
      "execution_count": 12,
      "metadata": {
        "id": "OqL-r_eugK1q"
      },
      "outputs": [],
      "source": [
        "assert np.allclose(lr_clf.weights_, np.array([ 3.1000e-06,  0.0000e+00,  4.1800e-05,  5.4770e-04,  2.2130e-04,\n",
        "        4.8750e-04,  1.3577e-03,  5.9780e-04,  5.6400e-05, -7.0000e-07,\n",
        "        1.6910e-04,  2.5190e-04, -4.3700e-04,  3.6190e-04,  1.0049e-03,\n",
        "        4.2280e-04,  2.5700e-05,  3.0000e-07, -1.1500e-05, -7.2440e-04,\n",
        "       -2.6200e-04,  8.7540e-04,  4.1540e-04, -8.4200e-05, -5.2000e-06,\n",
        "        0.0000e+00, -2.2160e-04, -5.7130e-04,  9.8570e-04,  1.3507e-03,\n",
        "        5.0210e-04, -1.7050e-04, -1.0000e-06,  0.0000e+00, -6.7810e-04,\n",
        "       -1.0515e-03, -4.4500e-05,  3.7160e-04,  4.2100e-04, -8.1800e-05,\n",
        "        0.0000e+00, -5.2000e-06, -5.3410e-04, -2.0393e-03, -8.4310e-04,\n",
        "        1.0400e-04, -1.2390e-04, -1.7880e-04, -1.3200e-05, -4.5000e-06,\n",
        "       -9.4300e-05, -1.1127e-03, -5.0900e-04, -2.1850e-04, -5.6050e-04,\n",
        "       -3.9560e-04, -1.7700e-05, -3.0000e-07,  2.6800e-05,  6.3920e-04,\n",
        "        1.8090e-04, -7.3660e-04, -5.3930e-04, -3.7060e-04, -2.8200e-05]), atol=1e-5)"
      ]
    },
    {
      "cell_type": "code",
      "execution_count": 13,
      "metadata": {
        "id": "FsNp97BogK1q"
      },
      "outputs": [],
      "source": [
        "model = CustomLogisticRegression()"
      ]
    },
    {
      "cell_type": "code",
      "execution_count": 14,
      "metadata": {
        "colab": {
          "base_uri": "https://localhost:8080/",
          "height": 363
        },
        "id": "UH-SaOlJgK1r",
        "outputId": "1d4cdca0-5ccd-483d-c413-08d692bfd277"
      },
      "outputs": [
        {
          "output_type": "stream",
          "name": "stderr",
          "text": [
            "/usr/local/lib/python3.7/dist-packages/sklearn/utils/deprecation.py:87: FutureWarning: Function plot_confusion_matrix is deprecated; Function `plot_confusion_matrix` is deprecated in 1.0 and will be removed in 1.2. Use one of the class methods: ConfusionMatrixDisplay.from_predictions or ConfusionMatrixDisplay.from_estimator.\n",
            "  warnings.warn(msg, category=FutureWarning)\n"
          ]
        },
        {
          "output_type": "display_data",
          "data": {
            "text/plain": [
              "<Figure size 432x288 with 2 Axes>"
            ],
            "image/png": "[encoded data removed]"
          },
          "metadata": {
            "needs_background": "light"
          }
        }
      ],
      "source": [
        "train_acc, test_acc = fit_evaluate(model, X_train, y_train, X_test, y_test)"
      ]
    },
    {
      "cell_type": "code",
      "execution_count": 15,
      "metadata": {
        "colab": {
          "base_uri": "https://localhost:8080/"
        },
        "id": "Nho4EIWvgK1r",
        "outputId": "6e37f35f-19af-4e51-9805-bfc689228936"
      },
      "outputs": [
        {
          "output_type": "execute_result",
          "data": {
            "text/plain": [
              "(0.9109255393180237, 0.9388888888888889)"
            ]
          },
          "metadata": {},
          "execution_count": 15
        }
      ],
      "source": [
        "train_acc, test_acc"
      ]
    },
    {
      "cell_type": "code",
      "execution_count": 16,
      "metadata": {
        "id": "XTlxe83JgK1r"
      },
      "outputs": [],
      "source": [
        "assert min(train_acc, test_acc) > 0.9"
      ]
    },
    {
      "cell_type": "markdown",
      "metadata": {
        "id": "r97XPEfigK1r"
      },
      "source": [
        "**(0.5 points)** Visualize the loss history."
      ]
    },
    {
      "cell_type": "code",
      "execution_count": 17,
      "metadata": {
        "colab": {
          "base_uri": "https://localhost:8080/",
          "height": 610
        },
        "id": "5euAKR_wgK1s",
        "outputId": "e30cede8-5428-427d-c343-1dc16fc9fdd4"
      },
      "outputs": [
        {
          "output_type": "execute_result",
          "data": {
            "text/plain": [
              "[<matplotlib.lines.Line2D at 0x7f37ae7f0d10>]"
            ]
          },
          "metadata": {},
          "execution_count": 17
        },
        {
          "output_type": "display_data",
          "data": {
            "text/plain": [
              "<Figure size 1080x720 with 1 Axes>"
            ],
            "image/png": "[encoded data removed]"
          },
          "metadata": {
            "needs_background": "light"
          }
        }
      ],
      "source": [
        "## your code\n",
        "lr_clf = CustomLogisticRegression(max_iter=1000, zero_init=True, eta=0.001, C = 1)\n",
        "lr_clf.fit(X_train, y_train)\n",
        "plt.figure(figsize=(15, 10))\n",
        "plt.plot(lr_clf.losses)"
      ]
    },
    {
      "cell_type": "markdown",
      "metadata": {
        "id": "XsZ9_fMhgK1s"
      },
      "source": [
        "**(0.5 points)** Try different learning rates and compare the results. How does the learning rate influence the convergence?"
      ]
    },
    {
      "cell_type": "code",
      "execution_count": 18,
      "metadata": {
        "colab": {
          "base_uri": "https://localhost:8080/",
          "height": 607
        },
        "id": "yhCwNj3qgK1s",
        "outputId": "4a61f6aa-4adb-448c-a20e-84364356d6c5"
      },
      "outputs": [
        {
          "output_type": "display_data",
          "data": {
            "text/plain": [
              "<Figure size 1080x720 with 1 Axes>"
            ],
            "image/png": "[encoded data removed]"
          },
          "metadata": {
            "needs_background": "light"
          }
        }
      ],
      "source": [
        "lr_clf2 = CustomLogisticRegression(max_iter=1000, zero_init=True, eta=0.00001, C = 1)\n",
        "lr_clf2.fit(X_train, y_train)\n",
        "lr_clf3 = CustomLogisticRegression(max_iter=1000, zero_init=True, eta=0.0001, C = 1)\n",
        "lr_clf3.fit(X_train, y_train)\n",
        "lr_clf4 = CustomLogisticRegression(max_iter=1000, zero_init=True, eta=0.001, C = 1)\n",
        "lr_clf4.fit(X_train, y_train)\n",
        "\n",
        "plt.figure(figsize=(15, 10))\n",
        "plt.plot(lr_clf2.losses, label='0.00001')\n",
        "plt.plot(lr_clf3.losses, label='0.0001')\n",
        "plt.plot(lr_clf4.losses, label='0.001')\n",
        "plt.title('Loss values dependence on learning rate')\n",
        "plt.legend()\n",
        "plt.show()"
      ]
    },
    {
      "cell_type": "markdown",
      "metadata": {
        "id": "Dki_xansgK1s"
      },
      "source": [
        "Модель с большим значением learning rate сходится к минимальному значению loss за меньшее количество итераций"
      ]
    },
    {
      "cell_type": "markdown",
      "metadata": {
        "id": "NQTgBltHgK1s"
      },
      "source": [
        "**(0.5 points)** Try different regularization parameter values and compare the model quality."
      ]
    },
    {
      "cell_type": "code",
      "execution_count": 19,
      "metadata": {
        "colab": {
          "base_uri": "https://localhost:8080/",
          "height": 607
        },
        "id": "tFcjEDGrgK1s",
        "outputId": "db2fc6eb-79d2-4080-9e12-06c6125e6a4d"
      },
      "outputs": [
        {
          "output_type": "display_data",
          "data": {
            "text/plain": [
              "<Figure size 1080x720 with 1 Axes>"
            ],
            "image/png": "[encoded data removed]"
          },
          "metadata": {
            "needs_background": "light"
          }
        }
      ],
      "source": [
        "## your code\n",
        "lr_clf5 = CustomLogisticRegression(max_iter=1000, zero_init=True, eta=0.001, C = 1)\n",
        "lr_clf5.fit(X_train, y_train)\n",
        "lr_clf6 = CustomLogisticRegression(max_iter=1000, zero_init=True, eta=0.001, C = 10)\n",
        "lr_clf6.fit(X_train, y_train)\n",
        "lr_clf7 = CustomLogisticRegression(max_iter=1000, zero_init=True, eta=0.001, C = 1000)\n",
        "lr_clf7.fit(X_train, y_train)\n",
        "\n",
        "plt.figure(figsize=(15, 10))\n",
        "plt.plot(lr_clf5.losses, label='1')\n",
        "plt.plot(lr_clf6.losses, label='10')\n",
        "plt.plot(lr_clf7.losses, label='1000')\n",
        "plt.title('Loss values dependence on regularization parameter')\n",
        "plt.legend()\n",
        "plt.show()"
      ]
    },
    {
      "cell_type": "markdown",
      "metadata": {
        "id": "WUxiRMK1gK1t"
      },
      "source": [
        "Модель с большим значением параметра регуляризации сходится к минимальному "
      ]
    },
    {
      "cell_type": "markdown",
      "metadata": {
        "id": "GILV8KQRgK1t"
      },
      "source": [
        "**(0.5 points)** Compare zero initialization and random initialization. "
      ]
    },
    {
      "cell_type": "code",
      "execution_count": 20,
      "metadata": {
        "colab": {
          "base_uri": "https://localhost:8080/",
          "height": 607
        },
        "id": "94Z3F84fgK1t",
        "outputId": "8e8699b4-5e96-446d-ca3e-9e6c0995e163"
      },
      "outputs": [
        {
          "output_type": "display_data",
          "data": {
            "text/plain": [
              "<Figure size 1080x720 with 1 Axes>"
            ],
            "image/png": "[encoded data removed]"
          },
          "metadata": {
            "needs_background": "light"
          }
        }
      ],
      "source": [
        "lr_clf8 = CustomLogisticRegression(max_iter=1000, zero_init=True, eta=0.001, C = 1000)\n",
        "lr_clf8.fit(X_train, y_train)\n",
        "lr_clf9 = CustomLogisticRegression(max_iter=1000, zero_init=False, eta=0.001, C = 1000)\n",
        "lr_clf9.fit(X_train, y_train)\n",
        "\n",
        "\n",
        "plt.figure(figsize=(15, 10))\n",
        "plt.plot(lr_clf8.losses, label='zero init')\n",
        "plt.plot(lr_clf9.losses, label='no zero init')\n",
        "plt.title('Loss values dependence on zero init parameter')\n",
        "plt.legend()\n",
        "plt.show()"
      ]
    },
    {
      "cell_type": "markdown",
      "metadata": {
        "id": "3SKRFOXrgK1t"
      },
      "source": [
        "Модели не показывают разницы в зависимости от значения параметра zero init"
      ]
    },
    {
      "cell_type": "markdown",
      "metadata": {
        "id": "Q3Q-h_VPgK1t"
      },
      "source": [
        "## Part 2: Implementing KNN Classifier"
      ]
    },
    {
      "cell_type": "markdown",
      "metadata": {
        "id": "7uZvv8eIgK1t"
      },
      "source": [
        "In this task you need to implement weighted K-Neighbors Classifier."
      ]
    },
    {
      "cell_type": "markdown",
      "metadata": {
        "id": "kJYWkdGMgK1t"
      },
      "source": [
        "Recall that training a KNN classifier is simply memorizing a training sample. \n",
        "\n",
        "The process of applying a classifier for one object is to find the distances from it to all objects in the training data, then select the k nearest objects (neighbors) and return the most common class among these objects."
      ]
    },
    {
      "cell_type": "markdown",
      "metadata": {
        "id": "tog8_s7GgK1u"
      },
      "source": [
        "You can also give the nearest neighbors weights in accordance with the distance of the object to them. In the simplest case (as in your assignment), you can set the weights inversely proportional to that distance. \n",
        "\n",
        "$$w_{i} = \\frac{1}{d_{i} + eps},$$\n",
        "\n",
        "where $d_{i}$ is the distance between object and i-th nearest neighbor and $eps$ is the small value to prevent division by zero.\n",
        "\n",
        "In case of 'uniform' weights, all k nearest neighbors are equivalent (have equal weight, for example $w_{i} = 1, \\forall i \\in(1,k)$)."
      ]
    },
    {
      "cell_type": "markdown",
      "metadata": {
        "id": "vtYnOg2OgK1u"
      },
      "source": [
        "To predict the probability of classes, it is necessary to normalize the weights of each class, dividing them by the sum:\n",
        "\n",
        "$$p_{i} = \\frac{w_{i}}{\\sum_{j=1}^{c}w_{j}},$$\n",
        "\n",
        "where $p_i$ is probability of i-th class and $c$ is the number of classes."
      ]
    },
    {
      "cell_type": "markdown",
      "metadata": {
        "id": "5QMmFLHXgK1u"
      },
      "source": [
        "**(2 points)** Implement the algorithm and use it to classify the digits. By implementing this algorithm, you will be able to classify numbers not only into \"even\" or \"odd\", but into their real representation."
      ]
    },
    {
      "cell_type": "code",
      "execution_count": 86,
      "metadata": {
        "id": "gGynyW-hgK1u"
      },
      "outputs": [],
      "source": [
        "class CustomKNeighborsClassifier:\n",
        "    _estimator_type = \"classifier\"\n",
        "    \n",
        "    def __init__(self, n_neighbors=5, weights='uniform', eps=1e-9):\n",
        "        \"\"\"K-Nearest Neighbors classifier.\n",
        "        \n",
        "        Args:\n",
        "            n_neighbors: int, default=5\n",
        "                Number of neighbors to use by default for :meth:`kneighbors` queries.\n",
        "            weights : {'uniform', 'distance'} or callable, default='uniform'\n",
        "                Weight function used in prediction.  Possible values:\n",
        "                - 'uniform' : uniform weights.  All points in each neighborhood\n",
        "                  are weighted equally.\n",
        "                - 'distance' : weight points by the inverse of their distance.\n",
        "                  in this case, closer neighbors of a query point will have a\n",
        "                  greater influence than neighbors which are further away.\n",
        "            eps : float, default=1e-5\n",
        "                Epsilon to prevent division by 0 \n",
        "        \"\"\"\n",
        "        self.n_neighbors = n_neighbors\n",
        "        self.weights = weights\n",
        "        self.eps = eps\n",
        "        \n",
        "    \n",
        "    def get_pairwise_distances(self, X, Y):\n",
        "        \"\"\"\n",
        "        Returnes matrix of the pairwise distances between the rows from both X and Y.\n",
        "        Args:\n",
        "            X: numpy array of shape (n_samples, n_features)\n",
        "            Y: numpy array of shape (k_samples, n_features)\n",
        "        Returns:\n",
        "            P: numpy array of shape (n_samples, k_samples)\n",
        "                Matrix in which (i, j) value is the distance \n",
        "                between i'th row from the X and j'th row from the Y.\n",
        "        \"\"\"\n",
        "        # <your code>\n",
        "        P = np.empty([len(X), len(Y)])\n",
        "        for i in range(len(X)):\n",
        "            for j in range(len(Y)):\n",
        "                P[i][j] = dist = np.linalg.norm(X[i]-Y[j])\n",
        "\n",
        "\n",
        "        \n",
        "        return P\n",
        "    \n",
        "    \n",
        "    def get_class_weights(self, y, weights):\n",
        "        \"\"\"\n",
        "        Returns a vector with sum of weights for each class \n",
        "        Args:\n",
        "            y: numpy array of shape (n_samles,)\n",
        "            weights: numpy array of shape (n_samples,)\n",
        "                The weights of the corresponding points of y.\n",
        "        Returns:\n",
        "            p: numpy array of shape (n_classes)\n",
        "                Array where the value at the i-th position \n",
        "                corresponds to the weight of the i-th class.\n",
        "        \"\"\"\n",
        "        a = np.array(list(zip(y,weights)))\n",
        "        df = pd.DataFrame(data=a, columns=['y', 'weight'])\n",
        "        df.weight = pd.to_numeric(df.weight)\n",
        "        weights = df.groupby(by='y')['weight'].sum().to_dict()\n",
        "        return np.array([weights.get(x, 0) for x in model.classes_])\n",
        "        \n",
        "        \n",
        "        \n",
        "        # <your code>\n",
        "       \n",
        "\n",
        "\n",
        "        \n",
        "            \n",
        "        \n",
        "    def fit(self, X, y):\n",
        "        \"\"\"Fit the model.\n",
        "        \n",
        "        Args:\n",
        "            X: numpy array of shape (n_samples, n_features)\n",
        "            y: numpy array of shape (n_samples,)\n",
        "                Target vector.        \n",
        "        \"\"\"\n",
        "        self.points = X\n",
        "        self.y = y\n",
        "        self.classes_ = np.unique(y)\n",
        "        \n",
        "        \n",
        "    def predict_proba(self, X):\n",
        "        \"\"\"Predict positive class probabilities.\n",
        "        \n",
        "        Args:\n",
        "            X: numpy array of shape (n_samples, n_features)\n",
        "        Returns:\n",
        "            y: numpy array of shape (n_samples, n_classes)\n",
        "                Vector containing positive class probabilities.\n",
        "        \"\"\"\n",
        "        if hasattr(self, 'points'):\n",
        "            P = self.get_pairwise_distances(X, self.points)\n",
        "            \n",
        "            weights_of_points = np.ones(P.shape)\n",
        "            if self.weights == 'distance':\n",
        "                weights_of_points = self.get_pairwise_distances(X, self.points)\n",
        "            else:     \n",
        "                weights_of_points\n",
        "            \n",
        "            y = []\n",
        "            for row in weights_of_points:\n",
        "                ind = np.argsort(row)\n",
        "                dist = np.sort(row)[:self.n_neighbors]\n",
        "                classes = self.y[list(ind[:self.n_neighbors])]\n",
        "                neib_weights = 1/(dist + 1e-9)\n",
        "                class_weights = np.array(self.get_class_weights(classes,  neib_weights))\n",
        "                class_weights_list = class_weights/class_weights.sum()\n",
        "                y.append(class_weights_list)\n",
        "            return np.array(y)\n",
        "            \n",
        "        \n",
        "        else: \n",
        "            raise NotFittedError(\"CustomKNeighborsClassifier instance is not fitted yet\")\n",
        "            \n",
        "        \n",
        "    def predict(self, X):\n",
        "        \"\"\"Predict classes.\n",
        "        \n",
        "        Args:\n",
        "            X: numpy array of shape (n_samples, n_features)\n",
        "        Returns:\n",
        "            y: numpy array of shape (n_samples,)\n",
        "                Vector containing predicted class labels.\n",
        "        \"\"\"\n",
        "        if hasattr(self, 'points'):\n",
        "            P = self.get_pairwise_distances(X, self.points)\n",
        "            \n",
        "            weights_of_points = np.ones(P.shape)\n",
        "            if self.weights == 'distance':\n",
        "                weights_of_points = self.get_pairwise_distances(X, self.points)\n",
        "            else:     \n",
        "                weights_of_points\n",
        "            \n",
        "            y = []\n",
        "            for row in weights_of_points:\n",
        "                ind = np.argsort(row)\n",
        "                dist = np.sort(row)[:self.n_neighbors]\n",
        "                classes = self.y[list(ind[:self.n_neighbors])]\n",
        "                neib_weights = 1/(dist + 1e-9)\n",
        "                class_weights = np.array(self.get_class_weights(classes,  neib_weights))\n",
        "                class_weights_list = class_weights/class_weights.sum()\n",
        "                y.append(self.classes_[np.argmax(class_weights_list)])\n",
        "            return np.array(y)"
      ]
    },
    {
      "cell_type": "code",
      "execution_count": 83,
      "metadata": {
        "id": "ix25YePegK1u"
      },
      "outputs": [],
      "source": [
        "model = CustomKNeighborsClassifier(n_neighbors=5, weights='distance')\n",
        "knn = KNeighborsClassifier(n_neighbors=5, weights='distance')"
      ]
    },
    {
      "cell_type": "code",
      "execution_count": 63,
      "metadata": {
        "id": "pcIEbf9SgK1v"
      },
      "outputs": [],
      "source": [
        "assert np.allclose(model.get_pairwise_distances(np.array([[0  , 1]  , [1, 1]]), \n",
        "                                                np.array([[0.5, 0.5], [1, 0]])),\n",
        "                   np.array([[0.70710678, 1.41421356],\n",
        "                             [0.70710678, 1.        ]]))"
      ]
    },
    {
      "cell_type": "code",
      "execution_count": 64,
      "metadata": {
        "id": "FX4hvf-rgK1v"
      },
      "outputs": [],
      "source": [
        "model.classes_ = ['one', 'two', 'three']\n",
        "assert np.allclose(model.get_class_weights(np.array(['one', 'one', 'three', 'two']), np.array([1, 1, 0, 4])), \n",
        "                   np.array([2,4,0]))"
      ]
    },
    {
      "cell_type": "code",
      "execution_count": 84,
      "metadata": {
        "colab": {
          "base_uri": "https://localhost:8080/",
          "height": 307
        },
        "id": "vNKD6HRwgK1v",
        "outputId": "d7036d1e-65ef-43b0-bbe1-40e171be4d55"
      },
      "outputs": [
        {
          "output_type": "display_data",
          "data": {
            "text/plain": [
              "<Figure size 720x360 with 21 Axes>"
            ],
            "image/png": "[encoded data removed]"
          },
          "metadata": {
            "needs_background": "light"
          }
        }
      ],
      "source": [
        "X, y = datasets.load_digits(n_class=10, return_X_y=True)\n",
        "\n",
        "_, axes = plt.subplots(nrows=3, ncols=7, figsize=(10, 5))\n",
        "for ax, image, label in zip(axes.flatten(), X, y):\n",
        "    ax.set_axis_off()\n",
        "    ax.imshow(image.reshape((8, 8)), cmap=plt.cm.gray_r if label % 2 else plt.cm.afmhot_r)\n",
        "    ax.set_title(label)\n",
        "\n",
        "X_train, X_test, y_train, y_test = train_test_split(X, y, test_size=0.2, shuffle=True, random_state=42)"
      ]
    },
    {
      "cell_type": "code",
      "execution_count": 78,
      "metadata": {
        "id": "sijLdoTxgK1v"
      },
      "outputs": [],
      "source": [
        "model.fit(X_train, y_train)\n",
        "knn.fit(X_train, list(map(str, y_train)));"
      ]
    },
    {
      "cell_type": "code",
      "execution_count": 69,
      "metadata": {
        "id": "R9oi7JHggK1v"
      },
      "outputs": [],
      "source": [
        "assert np.allclose(model.predict_proba(X_test), knn.predict_proba(X_test))"
      ]
    },
    {
      "cell_type": "code",
      "execution_count": 102,
      "metadata": {
        "id": "_BoYzlTGgK1v",
        "colab": {
          "base_uri": "https://localhost:8080/",
          "height": 381
        },
        "outputId": "20474a12-918a-4107-c38c-1cdb8fbf3015"
      },
      "outputs": [
        {
          "output_type": "stream",
          "name": "stderr",
          "text": [
            "/usr/local/lib/python3.7/dist-packages/sklearn/utils/deprecation.py:87: FutureWarning: Function plot_confusion_matrix is deprecated; Function `plot_confusion_matrix` is deprecated in 1.0 and will be removed in 1.2. Use one of the class methods: ConfusionMatrixDisplay.from_predictions or ConfusionMatrixDisplay.from_estimator.\n",
            "  warnings.warn(msg, category=FutureWarning)\n"
          ]
        },
        {
          "output_type": "display_data",
          "data": {
            "text/plain": [
              "<Figure size 432x288 with 2 Axes>"
            ],
            "image/png": "[encoded data removed]"
          },
          "metadata": {
            "needs_background": "light"
          }
        },
        {
          "output_type": "stream",
          "name": "stdout",
          "text": [
            "train_acc =  1.0 test_acc =  0.9861111111111112\n"
          ]
        }
      ],
      "source": [
        "train_acc, test_acc = fit_evaluate(model, X_train, y_train, X_test, y_test)\n",
        "print('train_acc = ', train_acc, 'test_acc = ', test_acc)"
      ]
    },
    {
      "cell_type": "code",
      "execution_count": 87,
      "metadata": {
        "id": "QdfshJ16gK1v"
      },
      "outputs": [],
      "source": [
        "assert train_acc == 1\n",
        "assert test_acc > 0.98"
      ]
    },
    {
      "cell_type": "markdown",
      "metadata": {
        "id": "v5scnZAAgK1w"
      },
      "source": [
        "**(0.5 points)** Take a look at the confusion matrix and tell what numbers the model confuses and why this happens."
      ]
    },
    {
      "cell_type": "markdown",
      "metadata": {
        "id": "whM7n6UggK1w"
      },
      "source": [
        "Модель путает цифры 4 и 9, 5 и 9, 6 и 5, 9 и 7 из-за похожести их изображений"
      ]
    },
    {
      "cell_type": "markdown",
      "metadata": {
        "id": "RT9FBK5UgK1w"
      },
      "source": [
        "**(0.5 points)** Try different n_neighbors parameters and compare the output probabilities of the model."
      ]
    },
    {
      "cell_type": "code",
      "execution_count": 96,
      "metadata": {
        "id": "7VHpzs0bgK1w",
        "colab": {
          "base_uri": "https://localhost:8080/",
          "height": 381
        },
        "outputId": "167ab8c8-e064-4230-f70f-aa3dbae00e56"
      },
      "outputs": [
        {
          "output_type": "stream",
          "name": "stderr",
          "text": [
            "/usr/local/lib/python3.7/dist-packages/sklearn/utils/deprecation.py:87: FutureWarning: Function plot_confusion_matrix is deprecated; Function `plot_confusion_matrix` is deprecated in 1.0 and will be removed in 1.2. Use one of the class methods: ConfusionMatrixDisplay.from_predictions or ConfusionMatrixDisplay.from_estimator.\n",
            "  warnings.warn(msg, category=FutureWarning)\n"
          ]
        },
        {
          "output_type": "display_data",
          "data": {
            "text/plain": [
              "<Figure size 432x288 with 2 Axes>"
            ],
            "image/png": "[encoded data removed]"
          },
          "metadata": {
            "needs_background": "light"
          }
        },
        {
          "output_type": "stream",
          "name": "stdout",
          "text": [
            "train_acc =  1.0 test_acc =  0.9833333333333333\n"
          ]
        }
      ],
      "source": [
        "model3 = CustomKNeighborsClassifier(n_neighbors=3, weights='distance')\n",
        "knn3 = KNeighborsClassifier(n_neighbors=3, weights='distance')\n",
        "model3.fit(X_train, y_train)\n",
        "knn3.fit(X_train, list(map(str, y_train)))\n",
        "train_acc, test_acc = fit_evaluate(model3, X_train, y_train, X_test, y_test)\n",
        "print('train_acc = ', train_acc, 'test_acc = ', test_acc)"
      ]
    },
    {
      "cell_type": "code",
      "source": [
        "model7 = CustomKNeighborsClassifier(n_neighbors=7, weights='distance')\n",
        "knn7  = KNeighborsClassifier(n_neighbors=7, weights='distance')\n",
        "model7.fit(X_train, y_train)\n",
        "knn7.fit(X_train, list(map(str, y_train)))\n",
        "train_acc, test_acc = fit_evaluate(model7, X_train, y_train, X_test, y_test)\n",
        "print('train_acc = ', train_acc, 'test_acc = ', test_acc)"
      ],
      "metadata": {
        "colab": {
          "base_uri": "https://localhost:8080/",
          "height": 381
        },
        "id": "hENLsL3cD55e",
        "outputId": "bffe82b4-3799-4371-db2b-1e8846cd7914"
      },
      "execution_count": 97,
      "outputs": [
        {
          "output_type": "stream",
          "name": "stderr",
          "text": [
            "/usr/local/lib/python3.7/dist-packages/sklearn/utils/deprecation.py:87: FutureWarning: Function plot_confusion_matrix is deprecated; Function `plot_confusion_matrix` is deprecated in 1.0 and will be removed in 1.2. Use one of the class methods: ConfusionMatrixDisplay.from_predictions or ConfusionMatrixDisplay.from_estimator.\n",
            "  warnings.warn(msg, category=FutureWarning)\n"
          ]
        },
        {
          "output_type": "display_data",
          "data": {
            "text/plain": [
              "<Figure size 432x288 with 2 Axes>"
            ],
            "image/png": "[encoded data removed]"
          },
          "metadata": {
            "needs_background": "light"
          }
        },
        {
          "output_type": "stream",
          "name": "stdout",
          "text": [
            "train_acc =  1.0 test_acc =  0.9888888888888889\n"
          ]
        }
      ]
    },
    {
      "cell_type": "markdown",
      "metadata": {
        "id": "OqEo2FR0gK1w"
      },
      "source": [
        "С возрастанием значения параметра n_neighbors значение метрики accuracy на тестовой выборке увеличивается"
      ]
    },
    {
      "cell_type": "markdown",
      "metadata": {
        "id": "z8rBXxgjgK1w"
      },
      "source": [
        "**(0.5 points)** Compare both 'uniform' and 'distance' weights and share your thoughts in what situations which parameter can be better."
      ]
    },
    {
      "cell_type": "code",
      "execution_count": 98,
      "metadata": {
        "id": "XzVkX6_tgK1w",
        "colab": {
          "base_uri": "https://localhost:8080/",
          "height": 381
        },
        "outputId": "2f4969a5-a168-4209-beb8-77f1e7854aa0"
      },
      "outputs": [
        {
          "output_type": "stream",
          "name": "stderr",
          "text": [
            "/usr/local/lib/python3.7/dist-packages/sklearn/utils/deprecation.py:87: FutureWarning: Function plot_confusion_matrix is deprecated; Function `plot_confusion_matrix` is deprecated in 1.0 and will be removed in 1.2. Use one of the class methods: ConfusionMatrixDisplay.from_predictions or ConfusionMatrixDisplay.from_estimator.\n",
            "  warnings.warn(msg, category=FutureWarning)\n"
          ]
        },
        {
          "output_type": "display_data",
          "data": {
            "text/plain": [
              "<Figure size 432x288 with 2 Axes>"
            ],
            "image/png": "[encoded data removed]"
          },
          "metadata": {
            "needs_background": "light"
          }
        },
        {
          "output_type": "stream",
          "name": "stdout",
          "text": [
            "train_acc =  0.09394572025052192 test_acc =  0.13055555555555556\n"
          ]
        }
      ],
      "source": [
        "model7 = CustomKNeighborsClassifier(n_neighbors=7, weights='uniform')\n",
        "knn7  = KNeighborsClassifier(n_neighbors=7, weights='uniform')\n",
        "model7.fit(X_train, y_train)\n",
        "knn7.fit(X_train, list(map(str, y_train)))\n",
        "train_acc, test_acc = fit_evaluate(model7, X_train, y_train, X_test, y_test)\n",
        "print('train_acc = ', train_acc, 'test_acc = ', test_acc)"
      ]
    },
    {
      "cell_type": "markdown",
      "source": [
        "Значение метрики accuracy на тестовой выборке значительно выше при использовании весов, рассчитываемых из расстояния между объектами выборки\n"
      ],
      "metadata": {
        "id": "X61xfyBnGhNf"
      }
    },
    {
      "cell_type": "markdown",
      "metadata": {
        "id": "PMeF5Hj-gK1x"
      },
      "source": [
        "**(0.5 points)** Suggest another distance measurement function that could improve the quality of the classification for this task. "
      ]
    },
    {
      "cell_type": "markdown",
      "metadata": {
        "id": "cTVeTS8ugK1x"
      },
      "source": [
        "Для вычисления расстояния между векторизованными объектами выборки  наилучшим выбором будет использование косинусного расстояния."
      ]
    },
    {
      "cell_type": "markdown",
      "metadata": {
        "id": "SuSp79c7gK1x"
      },
      "source": [
        "**(0.5 points)** Suggest different task and distance function that you think would be suitable for it."
      ]
    },
    {
      "cell_type": "markdown",
      "metadata": {
        "id": "4zr_8Fs_gK1x"
      },
      "source": [
        "Для задачи кластеризации объектов выборки используются другие функции расстояния между объектами:1) Евклидово расстояниею 2) Квадрат Евклидово расстояния. 3) Класс метрик Минковского. 4) Расстояние городских кварталов (манхэтонское). 5) Расстояние Чебышева. 6) Пиковое расстояние"
      ]
    },
    {
      "cell_type": "markdown",
      "metadata": {
        "id": "2pnlyn3qgK1x"
      },
      "source": [
        "## Part 3: Synthetic Titanic Survival Prediction"
      ]
    },
    {
      "cell_type": "markdown",
      "metadata": {
        "id": "4al-N6CSgK1x"
      },
      "source": [
        "### Dataset\n",
        "\n",
        "Read the description here: https://www.kaggle.com/c/tabular-playground-series-apr-2021/data. Download the dataset and place it in the *data/titanic/* folder in your working directory.\n",
        "You will use train.csv for model training and validation. The test set is used for model testing: once the model is trained, you can predict whether a passenger survived or not for each passenger in the test set, and submit the predictions: https://www.kaggle.com/c/tabular-playground-series-apr-2021/overview/evaluation.  \n"
      ]
    },
    {
      "cell_type": "code",
      "execution_count": 99,
      "metadata": {
        "id": "EFtfhtdHgK1x"
      },
      "outputs": [],
      "source": [
        "PATH = \"./data/\""
      ]
    },
    {
      "cell_type": "code",
      "execution_count": 100,
      "metadata": {
        "id": "5zCxxETEgK1x",
        "colab": {
          "base_uri": "https://localhost:8080/",
          "height": 335
        },
        "outputId": "03a0e240-3dfe-434d-a638-75db51b9b7a3"
      },
      "outputs": [
        {
          "output_type": "error",
          "ename": "FileNotFoundError",
          "evalue": "ignored",
          "traceback": [
            "\u001b[0;31m---------------------------------------------------------------------------\u001b[0m",
            "\u001b[0;31mFileNotFoundError\u001b[0m                         Traceback (most recent call last)",
            "\u001b[0;32m<ipython-input-100-769a4dc77de1>\u001b[0m in \u001b[0;36m<module>\u001b[0;34m()\u001b[0m\n\u001b[0;32m----> 1\u001b[0;31m \u001b[0mdata\u001b[0m \u001b[0;34m=\u001b[0m \u001b[0mpd\u001b[0m\u001b[0;34m.\u001b[0m\u001b[0mread_csv\u001b[0m\u001b[0;34m(\u001b[0m\u001b[0mos\u001b[0m\u001b[0;34m.\u001b[0m\u001b[0mpath\u001b[0m\u001b[0;34m.\u001b[0m\u001b[0mjoin\u001b[0m\u001b[0;34m(\u001b[0m\u001b[0mPATH\u001b[0m\u001b[0;34m,\u001b[0m \u001b[0;34m'titanic'\u001b[0m\u001b[0;34m,\u001b[0m \u001b[0;34m'train.csv'\u001b[0m\u001b[0;34m)\u001b[0m\u001b[0;34m)\u001b[0m\u001b[0;34m.\u001b[0m\u001b[0mset_index\u001b[0m\u001b[0;34m(\u001b[0m\u001b[0;34m'PassengerId'\u001b[0m\u001b[0;34m)\u001b[0m\u001b[0;34m\u001b[0m\u001b[0;34m\u001b[0m\u001b[0m\n\u001b[0m",
            "\u001b[0;32m/usr/local/lib/python3.7/dist-packages/pandas/util/_decorators.py\u001b[0m in \u001b[0;36mwrapper\u001b[0;34m(*args, **kwargs)\u001b[0m\n\u001b[1;32m    309\u001b[0m                     \u001b[0mstacklevel\u001b[0m\u001b[0;34m=\u001b[0m\u001b[0mstacklevel\u001b[0m\u001b[0;34m,\u001b[0m\u001b[0;34m\u001b[0m\u001b[0;34m\u001b[0m\u001b[0m\n\u001b[1;32m    310\u001b[0m                 )\n\u001b[0;32m--> 311\u001b[0;31m             \u001b[0;32mreturn\u001b[0m \u001b[0mfunc\u001b[0m\u001b[0;34m(\u001b[0m\u001b[0;34m*\u001b[0m\u001b[0margs\u001b[0m\u001b[0;34m,\u001b[0m \u001b[0;34m**\u001b[0m\u001b[0mkwargs\u001b[0m\u001b[0;34m)\u001b[0m\u001b[0;34m\u001b[0m\u001b[0;34m\u001b[0m\u001b[0m\n\u001b[0m\u001b[1;32m    312\u001b[0m \u001b[0;34m\u001b[0m\u001b[0m\n\u001b[1;32m    313\u001b[0m         \u001b[0;32mreturn\u001b[0m \u001b[0mwrapper\u001b[0m\u001b[0;34m\u001b[0m\u001b[0;34m\u001b[0m\u001b[0m\n",
            "\u001b[0;32m/usr/local/lib/python3.7/dist-packages/pandas/io/parsers/readers.py\u001b[0m in \u001b[0;36mread_csv\u001b[0;34m(filepath_or_buffer, sep, delimiter, header, names, index_col, usecols, squeeze, prefix, mangle_dupe_cols, dtype, engine, converters, true_values, false_values, skipinitialspace, skiprows, skipfooter, nrows, na_values, keep_default_na, na_filter, verbose, skip_blank_lines, parse_dates, infer_datetime_format, keep_date_col, date_parser, dayfirst, cache_dates, iterator, chunksize, compression, thousands, decimal, lineterminator, quotechar, quoting, doublequote, escapechar, comment, encoding, encoding_errors, dialect, error_bad_lines, warn_bad_lines, on_bad_lines, delim_whitespace, low_memory, memory_map, float_precision, storage_options)\u001b[0m\n\u001b[1;32m    584\u001b[0m     \u001b[0mkwds\u001b[0m\u001b[0;34m.\u001b[0m\u001b[0mupdate\u001b[0m\u001b[0;34m(\u001b[0m\u001b[0mkwds_defaults\u001b[0m\u001b[0;34m)\u001b[0m\u001b[0;34m\u001b[0m\u001b[0;34m\u001b[0m\u001b[0m\n\u001b[1;32m    585\u001b[0m \u001b[0;34m\u001b[0m\u001b[0m\n\u001b[0;32m--> 586\u001b[0;31m     \u001b[0;32mreturn\u001b[0m \u001b[0m_read\u001b[0m\u001b[0;34m(\u001b[0m\u001b[0mfilepath_or_buffer\u001b[0m\u001b[0;34m,\u001b[0m \u001b[0mkwds\u001b[0m\u001b[0;34m)\u001b[0m\u001b[0;34m\u001b[0m\u001b[0;34m\u001b[0m\u001b[0m\n\u001b[0m\u001b[1;32m    587\u001b[0m \u001b[0;34m\u001b[0m\u001b[0m\n\u001b[1;32m    588\u001b[0m \u001b[0;34m\u001b[0m\u001b[0m\n",
            "\u001b[0;32m/usr/local/lib/python3.7/dist-packages/pandas/io/parsers/readers.py\u001b[0m in \u001b[0;36m_read\u001b[0;34m(filepath_or_buffer, kwds)\u001b[0m\n\u001b[1;32m    480\u001b[0m \u001b[0;34m\u001b[0m\u001b[0m\n\u001b[1;32m    481\u001b[0m     \u001b[0;31m# Create the parser.\u001b[0m\u001b[0;34m\u001b[0m\u001b[0;34m\u001b[0m\u001b[0;34m\u001b[0m\u001b[0m\n\u001b[0;32m--> 482\u001b[0;31m     \u001b[0mparser\u001b[0m \u001b[0;34m=\u001b[0m \u001b[0mTextFileReader\u001b[0m\u001b[0;34m(\u001b[0m\u001b[0mfilepath_or_buffer\u001b[0m\u001b[0;34m,\u001b[0m \u001b[0;34m**\u001b[0m\u001b[0mkwds\u001b[0m\u001b[0;34m)\u001b[0m\u001b[0;34m\u001b[0m\u001b[0;34m\u001b[0m\u001b[0m\n\u001b[0m\u001b[1;32m    483\u001b[0m \u001b[0;34m\u001b[0m\u001b[0m\n\u001b[1;32m    484\u001b[0m     \u001b[0;32mif\u001b[0m \u001b[0mchunksize\u001b[0m \u001b[0;32mor\u001b[0m \u001b[0miterator\u001b[0m\u001b[0;34m:\u001b[0m\u001b[0;34m\u001b[0m\u001b[0;34m\u001b[0m\u001b[0m\n",
            "\u001b[0;32m/usr/local/lib/python3.7/dist-packages/pandas/io/parsers/readers.py\u001b[0m in \u001b[0;36m__init__\u001b[0;34m(self, f, engine, **kwds)\u001b[0m\n\u001b[1;32m    809\u001b[0m             \u001b[0mself\u001b[0m\u001b[0;34m.\u001b[0m\u001b[0moptions\u001b[0m\u001b[0;34m[\u001b[0m\u001b[0;34m\"has_index_names\"\u001b[0m\u001b[0;34m]\u001b[0m \u001b[0;34m=\u001b[0m \u001b[0mkwds\u001b[0m\u001b[0;34m[\u001b[0m\u001b[0;34m\"has_index_names\"\u001b[0m\u001b[0;34m]\u001b[0m\u001b[0;34m\u001b[0m\u001b[0;34m\u001b[0m\u001b[0m\n\u001b[1;32m    810\u001b[0m \u001b[0;34m\u001b[0m\u001b[0m\n\u001b[0;32m--> 811\u001b[0;31m         \u001b[0mself\u001b[0m\u001b[0;34m.\u001b[0m\u001b[0m_engine\u001b[0m \u001b[0;34m=\u001b[0m \u001b[0mself\u001b[0m\u001b[0;34m.\u001b[0m\u001b[0m_make_engine\u001b[0m\u001b[0;34m(\u001b[0m\u001b[0mself\u001b[0m\u001b[0;34m.\u001b[0m\u001b[0mengine\u001b[0m\u001b[0;34m)\u001b[0m\u001b[0;34m\u001b[0m\u001b[0;34m\u001b[0m\u001b[0m\n\u001b[0m\u001b[1;32m    812\u001b[0m \u001b[0;34m\u001b[0m\u001b[0m\n\u001b[1;32m    813\u001b[0m     \u001b[0;32mdef\u001b[0m \u001b[0mclose\u001b[0m\u001b[0;34m(\u001b[0m\u001b[0mself\u001b[0m\u001b[0;34m)\u001b[0m\u001b[0;34m:\u001b[0m\u001b[0;34m\u001b[0m\u001b[0;34m\u001b[0m\u001b[0m\n",
            "\u001b[0;32m/usr/local/lib/python3.7/dist-packages/pandas/io/parsers/readers.py\u001b[0m in \u001b[0;36m_make_engine\u001b[0;34m(self, engine)\u001b[0m\n\u001b[1;32m   1038\u001b[0m             )\n\u001b[1;32m   1039\u001b[0m         \u001b[0;31m# error: Too many arguments for \"ParserBase\"\u001b[0m\u001b[0;34m\u001b[0m\u001b[0;34m\u001b[0m\u001b[0;34m\u001b[0m\u001b[0m\n\u001b[0;32m-> 1040\u001b[0;31m         \u001b[0;32mreturn\u001b[0m \u001b[0mmapping\u001b[0m\u001b[0;34m[\u001b[0m\u001b[0mengine\u001b[0m\u001b[0;34m]\u001b[0m\u001b[0;34m(\u001b[0m\u001b[0mself\u001b[0m\u001b[0;34m.\u001b[0m\u001b[0mf\u001b[0m\u001b[0;34m,\u001b[0m \u001b[0;34m**\u001b[0m\u001b[0mself\u001b[0m\u001b[0;34m.\u001b[0m\u001b[0moptions\u001b[0m\u001b[0;34m)\u001b[0m  \u001b[0;31m# type: ignore[call-arg]\u001b[0m\u001b[0;34m\u001b[0m\u001b[0;34m\u001b[0m\u001b[0m\n\u001b[0m\u001b[1;32m   1041\u001b[0m \u001b[0;34m\u001b[0m\u001b[0m\n\u001b[1;32m   1042\u001b[0m     \u001b[0;32mdef\u001b[0m \u001b[0m_failover_to_python\u001b[0m\u001b[0;34m(\u001b[0m\u001b[0mself\u001b[0m\u001b[0;34m)\u001b[0m\u001b[0;34m:\u001b[0m\u001b[0;34m\u001b[0m\u001b[0;34m\u001b[0m\u001b[0m\n",
            "\u001b[0;32m/usr/local/lib/python3.7/dist-packages/pandas/io/parsers/c_parser_wrapper.py\u001b[0m in \u001b[0;36m__init__\u001b[0;34m(self, src, **kwds)\u001b[0m\n\u001b[1;32m     49\u001b[0m \u001b[0;34m\u001b[0m\u001b[0m\n\u001b[1;32m     50\u001b[0m         \u001b[0;31m# open handles\u001b[0m\u001b[0;34m\u001b[0m\u001b[0;34m\u001b[0m\u001b[0;34m\u001b[0m\u001b[0m\n\u001b[0;32m---> 51\u001b[0;31m         \u001b[0mself\u001b[0m\u001b[0;34m.\u001b[0m\u001b[0m_open_handles\u001b[0m\u001b[0;34m(\u001b[0m\u001b[0msrc\u001b[0m\u001b[0;34m,\u001b[0m \u001b[0mkwds\u001b[0m\u001b[0;34m)\u001b[0m\u001b[0;34m\u001b[0m\u001b[0;34m\u001b[0m\u001b[0m\n\u001b[0m\u001b[1;32m     52\u001b[0m         \u001b[0;32massert\u001b[0m \u001b[0mself\u001b[0m\u001b[0;34m.\u001b[0m\u001b[0mhandles\u001b[0m \u001b[0;32mis\u001b[0m \u001b[0;32mnot\u001b[0m \u001b[0;32mNone\u001b[0m\u001b[0;34m\u001b[0m\u001b[0;34m\u001b[0m\u001b[0m\n\u001b[1;32m     53\u001b[0m \u001b[0;34m\u001b[0m\u001b[0m\n",
            "\u001b[0;32m/usr/local/lib/python3.7/dist-packages/pandas/io/parsers/base_parser.py\u001b[0m in \u001b[0;36m_open_handles\u001b[0;34m(self, src, kwds)\u001b[0m\n\u001b[1;32m    227\u001b[0m             \u001b[0mmemory_map\u001b[0m\u001b[0;34m=\u001b[0m\u001b[0mkwds\u001b[0m\u001b[0;34m.\u001b[0m\u001b[0mget\u001b[0m\u001b[0;34m(\u001b[0m\u001b[0;34m\"memory_map\"\u001b[0m\u001b[0;34m,\u001b[0m \u001b[0;32mFalse\u001b[0m\u001b[0;34m)\u001b[0m\u001b[0;34m,\u001b[0m\u001b[0;34m\u001b[0m\u001b[0;34m\u001b[0m\u001b[0m\n\u001b[1;32m    228\u001b[0m             \u001b[0mstorage_options\u001b[0m\u001b[0;34m=\u001b[0m\u001b[0mkwds\u001b[0m\u001b[0;34m.\u001b[0m\u001b[0mget\u001b[0m\u001b[0;34m(\u001b[0m\u001b[0;34m\"storage_options\"\u001b[0m\u001b[0;34m,\u001b[0m \u001b[0;32mNone\u001b[0m\u001b[0;34m)\u001b[0m\u001b[0;34m,\u001b[0m\u001b[0;34m\u001b[0m\u001b[0;34m\u001b[0m\u001b[0m\n\u001b[0;32m--> 229\u001b[0;31m             \u001b[0merrors\u001b[0m\u001b[0;34m=\u001b[0m\u001b[0mkwds\u001b[0m\u001b[0;34m.\u001b[0m\u001b[0mget\u001b[0m\u001b[0;34m(\u001b[0m\u001b[0;34m\"encoding_errors\"\u001b[0m\u001b[0;34m,\u001b[0m \u001b[0;34m\"strict\"\u001b[0m\u001b[0;34m)\u001b[0m\u001b[0;34m,\u001b[0m\u001b[0;34m\u001b[0m\u001b[0;34m\u001b[0m\u001b[0m\n\u001b[0m\u001b[1;32m    230\u001b[0m         )\n\u001b[1;32m    231\u001b[0m \u001b[0;34m\u001b[0m\u001b[0m\n",
            "\u001b[0;32m/usr/local/lib/python3.7/dist-packages/pandas/io/common.py\u001b[0m in \u001b[0;36mget_handle\u001b[0;34m(path_or_buf, mode, encoding, compression, memory_map, is_text, errors, storage_options)\u001b[0m\n\u001b[1;32m    705\u001b[0m                 \u001b[0mencoding\u001b[0m\u001b[0;34m=\u001b[0m\u001b[0mioargs\u001b[0m\u001b[0;34m.\u001b[0m\u001b[0mencoding\u001b[0m\u001b[0;34m,\u001b[0m\u001b[0;34m\u001b[0m\u001b[0;34m\u001b[0m\u001b[0m\n\u001b[1;32m    706\u001b[0m                 \u001b[0merrors\u001b[0m\u001b[0;34m=\u001b[0m\u001b[0merrors\u001b[0m\u001b[0;34m,\u001b[0m\u001b[0;34m\u001b[0m\u001b[0;34m\u001b[0m\u001b[0m\n\u001b[0;32m--> 707\u001b[0;31m                 \u001b[0mnewline\u001b[0m\u001b[0;34m=\u001b[0m\u001b[0;34m\"\"\u001b[0m\u001b[0;34m,\u001b[0m\u001b[0;34m\u001b[0m\u001b[0;34m\u001b[0m\u001b[0m\n\u001b[0m\u001b[1;32m    708\u001b[0m             )\n\u001b[1;32m    709\u001b[0m         \u001b[0;32melse\u001b[0m\u001b[0;34m:\u001b[0m\u001b[0;34m\u001b[0m\u001b[0;34m\u001b[0m\u001b[0m\n",
            "\u001b[0;31mFileNotFoundError\u001b[0m: [Errno 2] No such file or directory: './data/titanic/train.csv'"
          ]
        }
      ],
      "source": [
        "data = pd.read_csv(os.path.join(PATH, 'titanic', 'train.csv')).set_index('PassengerId')"
      ]
    },
    {
      "cell_type": "code",
      "execution_count": null,
      "metadata": {
        "scrolled": true,
        "id": "PLWefcQIgK1x"
      },
      "outputs": [],
      "source": [
        "data.head()"
      ]
    },
    {
      "cell_type": "markdown",
      "metadata": {
        "id": "2Bw7eIsbgK1y"
      },
      "source": [
        "### EDA"
      ]
    },
    {
      "cell_type": "markdown",
      "metadata": {
        "id": "VM-G0lfIgK1y"
      },
      "source": [
        "**(0.5 points)** How many females and males are there in the dataset? What about the survived passengers? Is there any relationship between the gender and the survival?"
      ]
    },
    {
      "cell_type": "code",
      "execution_count": null,
      "metadata": {
        "id": "etx3VtAJgK1y"
      },
      "outputs": [],
      "source": [
        "## your code"
      ]
    },
    {
      "cell_type": "markdown",
      "metadata": {
        "id": "CQSm2DvUgK1y"
      },
      "source": [
        "< your thoughts >"
      ]
    },
    {
      "cell_type": "markdown",
      "metadata": {
        "id": "6fOTmoeSgK1y"
      },
      "source": [
        "**(0.5 points)** Plot age distribution of the passengers. What is the average and the median age of survived and deceased passengers? Do age distributions differ for survived and deceased passengers? Why?"
      ]
    },
    {
      "cell_type": "code",
      "execution_count": null,
      "metadata": {
        "id": "OjWF1IzOgK1y"
      },
      "outputs": [],
      "source": [
        "## your code"
      ]
    },
    {
      "cell_type": "markdown",
      "metadata": {
        "id": "biS8sqH4gK1y"
      },
      "source": [
        "< your thoughts >"
      ]
    },
    {
      "cell_type": "markdown",
      "metadata": {
        "id": "X1lZc0JsgK1y"
      },
      "source": [
        "**(1 point)** Explore \"passenger class\" and \"embarked\" features. What class was \"the safest\"? Is there any relationship between the embarkation port and the survival? Provide the corresponding visualizations."
      ]
    },
    {
      "cell_type": "code",
      "execution_count": null,
      "metadata": {
        "id": "Kpc5nM1sgK1z"
      },
      "outputs": [],
      "source": [
        "## your code"
      ]
    },
    {
      "cell_type": "markdown",
      "metadata": {
        "id": "alGkX4FxgK1z"
      },
      "source": [
        "< your thoughts >"
      ]
    },
    {
      "cell_type": "markdown",
      "metadata": {
        "id": "CFg1ZdvqgK1z"
      },
      "source": [
        "### Modelling"
      ]
    },
    {
      "cell_type": "markdown",
      "metadata": {
        "id": "viIGs6xmgK1z"
      },
      "source": [
        "**(0.5 points)** Find the percentage of missing values for each feature. "
      ]
    },
    {
      "cell_type": "code",
      "execution_count": null,
      "metadata": {
        "id": "M_-gX-adgK1z"
      },
      "outputs": [],
      "source": [
        "## your code"
      ]
    },
    {
      "cell_type": "markdown",
      "metadata": {
        "id": "bihbveXdgK1z"
      },
      "source": [
        "Think about the ways to handle these missing values for modelling and write your answer below. Which methods would you suggest? What are their advantages and disadvantages?\n",
        "\n",
        "< your thoughts >"
      ]
    },
    {
      "cell_type": "markdown",
      "metadata": {
        "id": "9bkrkVoFgK1z"
      },
      "source": [
        "**(1.5 points)** Prepare the features and train two models (KNN and Logistic Regression) to predict the survival. Compare the results. Use accuracy as a metric. Don't forget about cross-validation!"
      ]
    },
    {
      "cell_type": "code",
      "execution_count": null,
      "metadata": {
        "id": "sN4HRpCwgK1z"
      },
      "outputs": [],
      "source": [
        "## your code"
      ]
    },
    {
      "cell_type": "markdown",
      "metadata": {
        "id": "BTAE905ZgK1z"
      },
      "source": [
        "**(0.5 + X points)** Try more feature engineering and hyperparameter tuning to improve the results. You may use either KNN or Logistic Regression (or both)."
      ]
    },
    {
      "cell_type": "code",
      "execution_count": null,
      "metadata": {
        "id": "iQfKGpAkgK1z"
      },
      "outputs": [],
      "source": [
        "## your code"
      ]
    },
    {
      "cell_type": "markdown",
      "metadata": {
        "id": "IUq9zUPKgK10"
      },
      "source": [
        "Select the best model, load the test set and make the predictions. Submit them to kaggle and see the results :)\n",
        "\n",
        "**Note**. X points will depend on your kaggle public leaderboard score.\n",
        "$$ f(score) = 1.0, \\ \\ 0.79 \\leq score < 0.80,$$\n",
        "$$ f(score) = 2.5, \\ \\ 0.80 \\leq score < 0.81,$$ \n",
        "$$ f(score) = 4.0, \\ \\ 0.81 \\leq score $$ \n",
        "Your code should generate the output submitted to kaggle. Fix random seeds to make the results reproducible."
      ]
    },
    {
      "cell_type": "code",
      "execution_count": null,
      "metadata": {
        "id": "Xwv8gfqagK10"
      },
      "outputs": [],
      "source": [
        ""
      ]
    }
  ],
  "metadata": {
    "kernelspec": {
      "display_name": "Python 3 (ipykernel)",
      "language": "python",
      "name": "python3"
    },
    "language_info": {
      "codemirror_mode": {
        "name": "ipython",
        "version": 3
      },
      "file_extension": ".py",
      "mimetype": "text/x-python",
      "name": "python",
      "nbconvert_exporter": "python",
      "pygments_lexer": "ipython3",
      "version": "3.9.7"
    },
    "colab": {
      "name": "hw_classification_source.ipynb",
      "provenance": [],
      "collapsed_sections": [
        "2Bw7eIsbgK1y",
        "CFg1ZdvqgK1z"
      ]
    }
  },
  "nbformat": 4,
  "nbformat_minor": 0
}