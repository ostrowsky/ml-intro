{
  "cells": [
    {
      "cell_type": "code",
      "execution_count": 1,
      "metadata": {
        "id": "8KXIqrlTPaXH"
      },
      "outputs": [],
      "source": [
        "import numpy as np\n",
        "import pandas as pd\n",
        "import seaborn as sns\n",
        "import matplotlib.pyplot as plt\n",
        "\n",
        "from sklearn.impute import SimpleImputer\n",
        "from sklearn.preprocessing import StandardScaler, MinMaxScaler, OrdinalEncoder, OneHotEncoder\n",
        "from sklearn.decomposition import PCA\n",
        "\n",
        "from sklearn.model_selection import cross_val_score\n",
        "\n",
        "from sklearn.feature_selection import VarianceThreshold, SelectFromModel, RFECV, SequentialFeatureSelector\n",
        "\n",
        "from sklearn.ensemble import RandomForestClassifier, RandomForestRegressor\n",
        "from sklearn.linear_model import LogisticRegression\n",
        "\n",
        "from sklearn.model_selection import KFold, cross_val_score, train_test_split\n",
        "from sklearn.pipeline import Pipeline, make_pipeline\n",
        "from sklearn.metrics import accuracy_score\n",
        "\n",
        "from sklearn.datasets import make_classification, load_wine, load_breast_cancer, load_diabetes, load_digits"
      ]
    },
    {
      "cell_type": "code",
      "execution_count": 2,
      "metadata": {
        "id": "Wkls7cNZPaXL"
      },
      "outputs": [],
      "source": [
        "plt.style.use('seaborn-darkgrid')"
      ]
    },
    {
      "cell_type": "code",
      "execution_count": 3,
      "metadata": {
        "id": "jeOkTSYlPaXL"
      },
      "outputs": [],
      "source": [
        "def plot_scatter(x, y, auto_scaled=True, title=None, clusters=None):\n",
        "    plt.figure(figsize=(4, 4))\n",
        "    plt.scatter(x, y, c=clusters, cmap='bwr')\n",
        "    \n",
        "    if not auto_scaled:\n",
        "        plt.axis('square')\n",
        "    \n",
        "    plt.grid(True)\n",
        "    plt.title(title)\n",
        "    \n",
        "    plt.show()\n",
        "    \n",
        "def return_X_y(data, target_column):\n",
        "    return data.drop(target_column, axis=1), data[target_column]"
      ]
    },
    {
      "cell_type": "code",
      "execution_count": 4,
      "metadata": {
        "id": "uNrpMs-JPaXM"
      },
      "outputs": [],
      "source": [
        "wine_sklearn = load_wine(as_frame=True)\n",
        "wine_data, wine_labels = wine_sklearn['data'], wine_sklearn['target']"
      ]
    },
    {
      "cell_type": "markdown",
      "metadata": {
        "id": "jb6DUIciPaXN"
      },
      "source": [
        "# Homework"
      ]
    },
    {
      "cell_type": "markdown",
      "metadata": {
        "id": "_TzNLq8vPaXO"
      },
      "source": [
        "## Exercise  1 - Scaling (2 points)"
      ]
    },
    {
      "cell_type": "markdown",
      "metadata": {
        "id": "BJiJJKfSPaXP"
      },
      "source": [
        "Perform standardization for wine dataset (`wine_data`) using only basic python, numpy and pandas (without using `StandardScaler` and sklearn at all). Implementation of function (or class) that can get dataset as input and return standardized dataset as output is preferrable, but not necessary.\n",
        "\n",
        "Compare you results (output) with `StandardScaler`.\n",
        "\n",
        "**NOTE:**\n",
        "\n",
        "- 1 point for functional version, 2 points for implementing scaling as sklearn pipeline compartible class. \n",
        "- Maximum for the exercise is 2 points.\n"
      ]
    },
    {
      "cell_type": "markdown",
      "metadata": {
        "id": "iEcS6NtDPaXQ"
      },
      "source": [
        "### Simple version (1 point)"
      ]
    },
    {
      "cell_type": "code",
      "execution_count": 5,
      "metadata": {
        "id": "8uDxTqKMPaXR"
      },
      "outputs": [],
      "source": [
        "# 1 point\n",
        "def scale(X):\n",
        "    # your code here\n",
        "    return (X - X.mean())/X.std(ddof=0)"
      ]
    },
    {
      "cell_type": "code",
      "execution_count": 6,
      "metadata": {
        "id": "kdCuz8JjPaXS"
      },
      "outputs": [],
      "source": [
        "assert np.allclose(np.array(scale(wine_data)), StandardScaler().fit_transform(wine_data))"
      ]
    },
    {
      "cell_type": "markdown",
      "metadata": {
        "id": "BwozLKAhPaXS"
      },
      "source": [
        "### Pipeline Version (2 points)"
      ]
    },
    {
      "cell_type": "code",
      "execution_count": 7,
      "metadata": {
        "id": "YDcKFqroPaXT"
      },
      "outputs": [],
      "source": [
        "# 2 points\n",
        "from sklearn.base import BaseEstimator, TransformerMixin\n",
        "class CustomScaler(BaseEstimator, TransformerMixin):\n",
        "    def __init__(self, copy=True, with_mean=True, with_std=True):\n",
        "        # your code here\n",
        "        self.copy = copy\n",
        "        self.with_mean = with_mean\n",
        "        self.with_std = with_std\n",
        "        if not self.with_mean:\n",
        "           self.mean = 0\n",
        "        if not self.with_std:\n",
        "           self.std = 1\n",
        "\n",
        "    def fit(self, X, y=None):\n",
        "        # your code here\n",
        "        if self.with_mean:\n",
        "           self.mean = X.mean()\n",
        "        if self.with_std:\n",
        "           self.std = X.std(ddof=0)\n",
        "        return self\n",
        "\n",
        "    def transform(self, X, y=None, copy=None):\n",
        "        return ((X - self.mean)/self.std).to_numpy(copy=self.copy)\n",
        "        # your code here"
      ]
    },
    {
      "cell_type": "code",
      "execution_count": 8,
      "metadata": {
        "id": "ecoqua0wPaXT"
      },
      "outputs": [],
      "source": [
        "assert np.allclose(CustomScaler().fit_transform(wine_data), StandardScaler().fit_transform(wine_data))"
      ]
    },
    {
      "cell_type": "markdown",
      "metadata": {
        "id": "k2TFrNeRPaXU"
      },
      "source": [
        "## Exercise  2 - Visualization (3 points)"
      ]
    },
    {
      "cell_type": "markdown",
      "metadata": {
        "id": "LTY_DLfRPaXU"
      },
      "source": [
        "As noted earlier, standardization/normalization of data can be crucial for some distance-based ML methods.\n",
        "\n",
        "Let’s generate some toy example of unnormalized data and visualize the importance of this process once more:"
      ]
    },
    {
      "cell_type": "code",
      "execution_count": 9,
      "metadata": {
        "id": "T1m8fD1aPaXU",
        "outputId": "55f492b5-22c8-44dc-c11a-aacd72854851",
        "colab": {
          "base_uri": "https://localhost:8080/"
        }
      },
      "outputs": [
        {
          "output_type": "execute_result",
          "data": {
            "text/plain": [
              "(1000, 2)"
            ]
          },
          "metadata": {},
          "execution_count": 9
        }
      ],
      "source": [
        "feature_0 = np.random.randn(1000) * 10   \n",
        "feature_1 = np.concatenate([np.random.randn(500), np.random.randn(500) + 5])\n",
        "data = np.column_stack([feature_0, feature_1])\n",
        "data.shape"
      ]
    },
    {
      "cell_type": "code",
      "execution_count": 10,
      "metadata": {
        "id": "H6mq2AfOPaXV",
        "outputId": "f2c40b40-5fc3-405d-9031-5b682a70264c",
        "colab": {
          "base_uri": "https://localhost:8080/",
          "height": 277
        }
      },
      "outputs": [
        {
          "output_type": "display_data",
          "data": {
            "text/plain": [
              "<Figure size 288x288 with 1 Axes>"
            ],
            "image/png": "[encoded data removed]"
          },
          "metadata": {}
        }
      ],
      "source": [
        "plot_scatter(data[:, 0], data[:, 1], auto_scaled=True, title='Data (different axes units!)')"
      ]
    },
    {
      "cell_type": "markdown",
      "metadata": {
        "id": "ptVpzIBnPaXW"
      },
      "source": [
        "**NOTE:** on the plot above axes are scaled differently and we can clearly see two potential *classes/clusters*. In fact `matplotlib` performed `autoscaling` (which is basically can be considered as `MinMaxScaling` of original data) just for better visualization purposes.\n",
        "\n",
        "Let's turn this feature off and visualize the original data on the plot with equally scaled axes:"
      ]
    },
    {
      "cell_type": "code",
      "execution_count": 11,
      "metadata": {
        "id": "--vU7CzePaXW",
        "outputId": "7326be2f-3df2-4a21-b754-8184351f61d2",
        "colab": {
          "base_uri": "https://localhost:8080/",
          "height": 277
        }
      },
      "outputs": [
        {
          "output_type": "display_data",
          "data": {
            "text/plain": [
              "<Figure size 288x288 with 1 Axes>"
            ],
            "image/png": "[encoded data removed]"
          },
          "metadata": {}
        }
      ],
      "source": [
        "plot_scatter(data[:, 0], data[:, 1], auto_scaled=False , title='Data (equal axes units!)')"
      ]
    },
    {
      "cell_type": "markdown",
      "metadata": {
        "id": "0200PyhqPaXX"
      },
      "source": [
        "This picture is clearly less interpretable, but much closer to \"how distance-based algorithm see the original data\": separability of data is hardly noticable only because the variation (std) of x-feature is much bigger in absolute numbers."
      ]
    },
    {
      "cell_type": "markdown",
      "metadata": {
        "id": "KIaexmOJPaXX"
      },
      "source": [
        "Perform `StandardScaling` and `MinMaxScaling` of original data; visualize results for each case (**use `plot_scatter` with `auto_scaled=False`**):"
      ]
    },
    {
      "cell_type": "markdown",
      "metadata": {
        "id": "e9RupwYtPaXX"
      },
      "source": [
        "### MinMaxScaling (0.5 point)"
      ]
    },
    {
      "cell_type": "code",
      "execution_count": 12,
      "metadata": {
        "id": "DPzhUD3oPaXY",
        "colab": {
          "base_uri": "https://localhost:8080/",
          "height": 277
        },
        "outputId": "b42e1a88-3f85-4182-c41b-9fac119c4af1"
      },
      "outputs": [
        {
          "output_type": "display_data",
          "data": {
            "text/plain": [
              "<Figure size 288x288 with 1 Axes>"
            ],
            "image/png": "[encoded data removed]"
          },
          "metadata": {}
        }
      ],
      "source": [
        "## your code\n",
        "min_max_scaled_data = (data - data.min())/(data.max() - data.min())\n",
        "plot_scatter(min_max_scaled_data[:, 0], min_max_scaled_data[:, 1], auto_scaled=False , title='Data minmax scaled')"
      ]
    },
    {
      "cell_type": "markdown",
      "metadata": {
        "id": "oUhr8-Y8PaXY"
      },
      "source": [
        "### StandardScaler (0.5 point)"
      ]
    },
    {
      "cell_type": "code",
      "execution_count": 13,
      "metadata": {
        "id": "cSfzTq4iPaXY",
        "colab": {
          "base_uri": "https://localhost:8080/",
          "height": 277
        },
        "outputId": "bed4faf9-e777-459c-ecad-3fb295be19fc"
      },
      "outputs": [
        {
          "output_type": "display_data",
          "data": {
            "text/plain": [
              "<Figure size 288x288 with 1 Axes>"
            ],
            "image/png": "[encoded data removed]"
          },
          "metadata": {}
        }
      ],
      "source": [
        "## your code\n",
        "std_scaled_data = (data - data.mean())/data.std()\n",
        "plot_scatter(std_scaled_data[:, 0], std_scaled_data[:, 1], auto_scaled=False , title='Data standard scaled')"
      ]
    },
    {
      "cell_type": "markdown",
      "metadata": {
        "id": "_ckBiH1PPaXY"
      },
      "source": [
        "### (Bonus) K-means (2 points)"
      ]
    },
    {
      "cell_type": "markdown",
      "metadata": {
        "id": "yVCcCeMZPaXY"
      },
      "source": [
        "Illustrate the impact of scaling on basic distance-based clustering algorithm [K-means](https://towardsdatascience.com/understanding-k-means-clustering-in-machine-learning-6a6e67336aa1) using `data` generated above.\n",
        "\n",
        "**NOTE:** basically, you don't need understanding K-means algorithm here, you just need to:\n",
        "\n",
        "1) run algorithm (with k=2, k - number of clusters/classes) on unscaled data    \n",
        "2) run algorithm (with k=2) on scaled data    \n",
        "3) plot results: highlight different clusters using different colors.\n",
        "\n",
        "You can use this [question](https://stats.stackexchange.com/questions/89809/is-it-important-to-scale-data-before-clustering/89813) as a hint, but I recommend you to plot results using `plot_scatter` with `equal_scaled=True`: it might help you to intuitively understand the reasons of such scaling impact.\n"
      ]
    },
    {
      "cell_type": "code",
      "execution_count": 14,
      "metadata": {
        "id": "R24g677cPaXZ",
        "colab": {
          "base_uri": "https://localhost:8080/",
          "height": 277
        },
        "outputId": "b85c1d1b-fad7-484f-89bf-b7eafc591764"
      },
      "outputs": [
        {
          "output_type": "display_data",
          "data": {
            "text/plain": [
              "<Figure size 288x288 with 1 Axes>"
            ],
            "image/png": "[encoded data removed]"
          },
          "metadata": {}
        }
      ],
      "source": [
        "## your code\n",
        "from sklearn.cluster import KMeans\n",
        "from seaborn import scatterplot \n",
        "clusters = KMeans(n_clusters=2).fit_predict(data)\n",
        "plot_scatter(data[:, 0], data[:, 1], auto_scaled=True , clusters=clusters, title='KMeans(2) unscaled')\n"
      ]
    },
    {
      "cell_type": "code",
      "source": [
        "clusters_scaled = KMeans(n_clusters=2).fit_predict(StandardScaler().fit_transform(data))\n",
        "plot_scatter(std_scaled_data[:, 0], std_scaled_data[:, 1], auto_scaled=True , clusters=clusters_scaled, title='KMeans(2) standard scaled')"
      ],
      "metadata": {
        "colab": {
          "base_uri": "https://localhost:8080/",
          "height": 277
        },
        "id": "CBNaFOJDor3f",
        "outputId": "74c83485-c926-48db-f099-8ebdee312a2a"
      },
      "execution_count": 15,
      "outputs": [
        {
          "output_type": "display_data",
          "data": {
            "text/plain": [
              "<Figure size 288x288 with 1 Axes>"
            ],
            "image/png": "[encoded data removed]"
          },
          "metadata": {}
        }
      ]
    },
    {
      "cell_type": "markdown",
      "metadata": {
        "id": "FJvjQTxxPaXZ"
      },
      "source": [
        "## Exercise  3 - Preprocessing Pipeline (2 points)"
      ]
    },
    {
      "cell_type": "code",
      "execution_count": 16,
      "metadata": {
        "id": "8snahGKwPaXZ"
      },
      "outputs": [],
      "source": [
        "wine_train, wine_val, wine_labels_train, wine_labels_val = train_test_split(wine_data, wine_labels, \n",
        "                                                                            test_size=0.3, random_state=42)"
      ]
    },
    {
      "cell_type": "markdown",
      "metadata": {
        "id": "1GdV1EHlPaXZ"
      },
      "source": [
        "Train model (for example, `LogisticRegression(solver='liblinear', penalty='l1')` on raw `wine_train` data; then train same model after data scaling; then add feature selection (and train model again on scaled data). For each experiment all required preprocessing steps (if any) should be wrapped into sklearn pipeline.\n",
        "\n",
        "Measure `accuracy` of all 3 approaches on `wine_val` dataset. Describe and explain results."
      ]
    },
    {
      "cell_type": "code",
      "execution_count": 17,
      "metadata": {
        "id": "3ba6uLM-PaXZ",
        "colab": {
          "base_uri": "https://localhost:8080/"
        },
        "outputId": "df896792-9e8e-45bb-a76c-68c7b9de2c7b"
      },
      "outputs": [
        {
          "output_type": "stream",
          "name": "stdout",
          "text": [
            "0.9814814814814815\n"
          ]
        }
      ],
      "source": [
        "## your code\n",
        "model = LogisticRegression(solver='liblinear', penalty='l1', random_state=42)\n",
        "raw_trained = model.fit(wine_train,wine_labels_train)\n",
        "wine_labels_pred = raw_trained.predict(wine_val)\n",
        "acc_raw = accuracy_score(y_pred=wine_labels_pred, y_true=wine_labels_val)\n",
        "print(acc_raw)"
      ]
    },
    {
      "cell_type": "code",
      "source": [
        "pipe_scaled = make_pipeline(StandardScaler(), LogisticRegression(solver='liblinear', penalty='l1', random_state=42))\n",
        "scaled_trained = pipe_scaled.fit(wine_train, wine_labels_train)\n",
        "scaled_pred = scaled_trained.predict(wine_val)\n",
        "acc_scaled = accuracy_score(y_pred=scaled_pred, y_true=wine_labels_val)\n",
        "print(acc_scaled)"
      ],
      "metadata": {
        "colab": {
          "base_uri": "https://localhost:8080/"
        },
        "id": "PCsQldwaps3P",
        "outputId": "77306545-74ce-4d19-c0ea-aabc62f0f384"
      },
      "execution_count": 18,
      "outputs": [
        {
          "output_type": "stream",
          "name": "stdout",
          "text": [
            "0.9814814814814815\n"
          ]
        }
      ]
    },
    {
      "cell_type": "code",
      "source": [
        "pipe_selected = make_pipeline(StandardScaler(), SequentialFeatureSelector(LogisticRegression(solver='liblinear', penalty='l1', random_state=42)),  LogisticRegression(solver='liblinear', penalty='l1', random_state=42))\n",
        "selected_trained = pipe_selected.fit(wine_train,wine_labels_train)\n",
        "selected_pred = selected_trained.predict(wine_val)\n",
        "acc_selected = accuracy_score(y_pred=selected_pred, y_true=wine_labels_val)\n",
        "print(acc_selected)"
      ],
      "metadata": {
        "colab": {
          "base_uri": "https://localhost:8080/"
        },
        "id": "lHgt9sXTqYe2",
        "outputId": "1ca7d031-1797-484b-b14b-b22c54b9835e"
      },
      "execution_count": 19,
      "outputs": [
        {
          "output_type": "stream",
          "name": "stdout",
          "text": [
            "0.9629629629629629\n"
          ]
        }
      ]
    },
    {
      "cell_type": "code",
      "source": [
        "print('accuracy_raw = ', acc_raw, 'accuracy_scaled = ', acc_scaled, 'accuracy_selected = ', acc_selected)"
      ],
      "metadata": {
        "colab": {
          "base_uri": "https://localhost:8080/"
        },
        "id": "tvBVJ60QRmTV",
        "outputId": "a9bdd451-8ae1-4330-e585-46bdb7434c8f"
      },
      "execution_count": 20,
      "outputs": [
        {
          "output_type": "stream",
          "name": "stdout",
          "text": [
            "accuracy_raw =  0.9814814814814815 accuracy_scaled =  0.9814814814814815 accuracy_selected =  0.9629629629629629\n"
          ]
        }
      ]
    },
    {
      "cell_type": "markdown",
      "source": [
        "Добавление SequentialFeatureSelector ухудшает значение accuracy видимо из-за того, что происходит удаление признаков, хранящих важную информацию"
      ],
      "metadata": {
        "id": "y-3uF3m1speM"
      }
    },
    {
      "cell_type": "markdown",
      "metadata": {
        "id": "e6Bv9-tFPaXa"
      },
      "source": [
        "## Exercise 4 - manual PCA (5 points)\n",
        "The task is to solve PCA as an optimization problem, without explicitly doing eigen value decomposition.\n",
        "In the most general setting PCA is minimization of reconstruction error of a projection of given rank $q$\n",
        "\n",
        "$$\\min_{\\mu, \\lambda_1,\\ldots, \\lambda_n, \\mathbf{V}_q} \\sum_{i=1}^n ||x_i - \\mu - \\mathbf{V}_q \\lambda_i||^2$$\n",
        "\n",
        "With a number of steps that can be found here https://stats.stackexchange.com/a/10260 this task transforms to\n",
        " $$\\max_{u_i} \\sum_{i=1}^q u_i^T \\mathbf{S} u_i$$\n",
        " where $\\mathbf{S}$ is the sample covariance matrix (after `) and $u_1, \\ldots, u_q$ are the $q$ are orthonormal columns in $\\mathbf{V}_q$.\n",
        " Let us solve this optimization problem with `scipy.optimize` library.\n",
        " \n",
        " Additional 2 point are given for visualization of the results."
      ]
    },
    {
      "cell_type": "markdown",
      "metadata": {
        "id": "b4ACdQQ3PaXa"
      },
      "source": [
        "### PCA (3 points)"
      ]
    },
    {
      "cell_type": "code",
      "execution_count": 21,
      "metadata": {
        "id": "a2lhw1VHPaXa"
      },
      "outputs": [],
      "source": [
        "wine_data, wine_labels = wine_sklearn['data'], wine_sklearn['target']"
      ]
    },
    {
      "cell_type": "markdown",
      "metadata": {
        "id": "Qj4-wnj4PaXa"
      },
      "source": [
        "Find a covariance matrix of standartized data and assing it to S."
      ]
    },
    {
      "cell_type": "code",
      "source": [
        "wine_data.shape"
      ],
      "metadata": {
        "colab": {
          "base_uri": "https://localhost:8080/"
        },
        "id": "DokYylmFIJXT",
        "outputId": "25304c07-4418-47d8-bd31-ae261a0cde09"
      },
      "execution_count": 22,
      "outputs": [
        {
          "output_type": "execute_result",
          "data": {
            "text/plain": [
              "(178, 13)"
            ]
          },
          "metadata": {},
          "execution_count": 22
        }
      ]
    },
    {
      "cell_type": "code",
      "source": [
        "stand_data = StandardScaler().fit_transform(wine_data)\n"
      ],
      "metadata": {
        "id": "ig2b9abc4Yc_"
      },
      "execution_count": 23,
      "outputs": []
    },
    {
      "cell_type": "code",
      "source": [
        "x_x_mean = (stand_data - np.mean(stand_data, axis=0))\n",
        "S = ((x_x_mean.T@x_x_mean)/(stand_data.shape[0] - 1))"
      ],
      "metadata": {
        "id": "ppH0K9n06-z_"
      },
      "execution_count": 24,
      "outputs": []
    },
    {
      "cell_type": "markdown",
      "metadata": {
        "id": "KbyVtNgUPaXb"
      },
      "source": [
        "If your code is correct, the following assert should be Ok."
      ]
    },
    {
      "cell_type": "code",
      "execution_count": 25,
      "metadata": {
        "id": "kgWJMRWiPaXb"
      },
      "outputs": [],
      "source": [
        "assert np.allclose(np.linalg.norm(S), 5.787241159764733)"
      ]
    },
    {
      "cell_type": "code",
      "execution_count": 26,
      "metadata": {
        "id": "hfbRzXXRPaXb"
      },
      "outputs": [],
      "source": [
        "from scipy.optimize import minimize\n",
        "\n",
        "def objective(x):\n",
        "    # your code: write objective of the problem (don't forget that scipy does min while we need max)\n",
        "    return -(x.T@S@x)\n",
        "\n",
        "def norm_constraint(x):\n",
        "    # your code: constaraint norm of x to be 1, function should return 0 if constraint holds\n",
        "    norm = np.linalg.norm(x)-1\n",
        "    if norm == 0:\n",
        "        return 0\n",
        "    else: return norm\n",
        "    \n",
        "\n",
        "con1 = {'type': 'eq', 'fun': norm_constraint}\n",
        "\n",
        "x0 = np.zeros(13)# your code: initial vector to start optimization\n",
        "sol = minimize(objective, x0, constraints = [con1])\n",
        "x0 = sol.x"
      ]
    },
    {
      "cell_type": "code",
      "source": [
        "sol.x"
      ],
      "metadata": {
        "colab": {
          "base_uri": "https://localhost:8080/"
        },
        "id": "l5ADOxVrFHWt",
        "outputId": "4196bb27-0758-42df-ba55-843b06d234a4"
      },
      "execution_count": 27,
      "outputs": [
        {
          "output_type": "execute_result",
          "data": {
            "text/plain": [
              "array([ 0.14432373, -0.24517853, -0.00205895, -0.23935425,  0.14199168,\n",
              "        0.39465092,  0.42292702, -0.29851424,  0.31345343, -0.08862295,\n",
              "        0.2967148 ,  0.37615867,  0.28676191])"
            ]
          },
          "metadata": {},
          "execution_count": 27
        }
      ]
    },
    {
      "cell_type": "markdown",
      "metadata": {
        "id": "jjvVXqVzPaXb"
      },
      "source": [
        "Hurray! We have first vector! Let's do another one."
      ]
    },
    {
      "cell_type": "code",
      "execution_count": 28,
      "metadata": {
        "id": "80i90xOpPaXb"
      },
      "outputs": [],
      "source": [
        "def orthogonality_constraint(x):\n",
        "    # your code: x should be orthogonal to x0, function should return 0 if constraint holds\n",
        "    if x.T@x0 == 0:\n",
        "        return 0\n",
        "    else: return x.T@x0\n",
        "\n",
        "con2 = {'type': 'eq', 'fun': orthogonality_constraint}\n",
        "\n",
        "x1 = np.zeros(13)# your code: initial vector to start optimization\n",
        "\n",
        "\n",
        "sol = minimize(objective, x1, constraints = [con2])\n",
        "\n",
        "x1 = sol.x"
      ]
    },
    {
      "cell_type": "code",
      "source": [
        "x1"
      ],
      "metadata": {
        "colab": {
          "base_uri": "https://localhost:8080/"
        },
        "id": "1F-cpsFMgjvW",
        "outputId": "e8193527-7c98-48a0-e8d8-f4cd78c20424"
      },
      "execution_count": 29,
      "outputs": [
        {
          "output_type": "execute_result",
          "data": {
            "text/plain": [
              "array([0., 0., 0., 0., 0., 0., 0., 0., 0., 0., 0., 0., 0.])"
            ]
          },
          "metadata": {},
          "execution_count": 29
        }
      ]
    },
    {
      "cell_type": "markdown",
      "metadata": {
        "id": "tmJxf58JPaXc"
      },
      "source": [
        "If your solution is correct, the following asserts should be Ok."
      ]
    },
    {
      "cell_type": "code",
      "source": [
        "x0@S@x0"
      ],
      "metadata": {
        "colab": {
          "base_uri": "https://localhost:8080/"
        },
        "id": "By6sD3SlgSkE",
        "outputId": "75bae1bf-381a-41a0-f2ad-13e245068b98"
      },
      "execution_count": 30,
      "outputs": [
        {
          "output_type": "execute_result",
          "data": {
            "text/plain": [
              "4.732437120040828"
            ]
          },
          "metadata": {},
          "execution_count": 30
        }
      ]
    },
    {
      "cell_type": "code",
      "source": [
        "x1@S@x1"
      ],
      "metadata": {
        "colab": {
          "base_uri": "https://localhost:8080/"
        },
        "id": "zTlsCrMAgVb0",
        "outputId": "9f06dc92-a8e6-4aaf-abb7-bfde185ddc52"
      },
      "execution_count": 31,
      "outputs": [
        {
          "output_type": "execute_result",
          "data": {
            "text/plain": [
              "0.0"
            ]
          },
          "metadata": {},
          "execution_count": 31
        }
      ]
    },
    {
      "cell_type": "code",
      "execution_count": 32,
      "metadata": {
        "id": "VYgTIecPPaXc",
        "colab": {
          "base_uri": "https://localhost:8080/",
          "height": 186
        },
        "outputId": "e84eaa5c-f346-4438-fa2a-e1369fab1793"
      },
      "outputs": [
        {
          "output_type": "error",
          "ename": "AssertionError",
          "evalue": "ignored",
          "traceback": [
            "\u001b[0;31m---------------------------------------------------------------------------\u001b[0m",
            "\u001b[0;31mAssertionError\u001b[0m                            Traceback (most recent call last)",
            "\u001b[0;32m<ipython-input-32-ce50262afd69>\u001b[0m in \u001b[0;36m<module>\u001b[0;34m()\u001b[0m\n\u001b[1;32m      1\u001b[0m \u001b[0;32massert\u001b[0m \u001b[0mnp\u001b[0m\u001b[0;34m.\u001b[0m\u001b[0mallclose\u001b[0m\u001b[0;34m(\u001b[0m\u001b[0mx0\u001b[0m\u001b[0;34m@\u001b[0m\u001b[0mS\u001b[0m\u001b[0;34m@\u001b[0m\u001b[0mx0\u001b[0m\u001b[0;34m,\u001b[0m \u001b[0;36m4.732436977583595\u001b[0m\u001b[0;34m)\u001b[0m\u001b[0;34m\u001b[0m\u001b[0;34m\u001b[0m\u001b[0m\n\u001b[0;32m----> 2\u001b[0;31m \u001b[0;32massert\u001b[0m \u001b[0mnp\u001b[0m\u001b[0;34m.\u001b[0m\u001b[0mallclose\u001b[0m\u001b[0;34m(\u001b[0m\u001b[0mx1\u001b[0m\u001b[0;34m@\u001b[0m\u001b[0mS\u001b[0m\u001b[0;34m@\u001b[0m\u001b[0mx1\u001b[0m\u001b[0;34m,\u001b[0m \u001b[0;36m2.5110809296451233\u001b[0m\u001b[0;34m)\u001b[0m\u001b[0;34m\u001b[0m\u001b[0;34m\u001b[0m\u001b[0m\n\u001b[0m",
            "\u001b[0;31mAssertionError\u001b[0m: "
          ]
        }
      ],
      "source": [
        "assert np.allclose(x0@S@x0, 4.732436977583595)\n",
        "assert np.allclose(x1@S@x1, 2.5110809296451233)"
      ]
    },
    {
      "cell_type": "markdown",
      "metadata": {
        "id": "jGYl3_XNPaXc"
      },
      "source": [
        "### Visualization (2 points)"
      ]
    },
    {
      "cell_type": "markdown",
      "metadata": {
        "id": "eSg9fKpvPaXc"
      },
      "source": [
        "Visualize the points after applying custom dimension reduction with 2 components."
      ]
    },
    {
      "cell_type": "markdown",
      "metadata": {
        "id": "phaDMQd3PaXc"
      },
      "source": [
        "## Exercise 5 - Boruta (3 points)\n",
        "\n",
        "Let us classify handwritten digits 0, 1 and 2. \n",
        "To make task not so easy the images are binarized (no shadows of gray present) as it happens with xerocopied documents.\n",
        "\n",
        "Let us also find out to which parts of an image there's no need to look in order to clasify three digits of interest."
      ]
    },
    {
      "cell_type": "code",
      "execution_count": 33,
      "metadata": {
        "id": "9Yc_orfEPaXc"
      },
      "outputs": [],
      "source": [
        "X, y = load_digits(n_class=3, return_X_y=True, as_frame=True)\n",
        "X = (X>10).astype(int)"
      ]
    },
    {
      "cell_type": "code",
      "execution_count": 34,
      "metadata": {
        "id": "dAX4_dGVPaXc",
        "colab": {
          "base_uri": "https://localhost:8080/",
          "height": 264
        },
        "outputId": "30a17b71-e938-4491-88c8-9c8ea4ae4e8c"
      },
      "outputs": [
        {
          "output_type": "display_data",
          "data": {
            "text/plain": [
              "<Figure size 720x288 with 3 Axes>"
            ],
            "image/png": "[encoded data removed]"
          },
          "metadata": {}
        }
      ],
      "source": [
        "f, ax = plt.subplots(1,3,figsize=(10,4))\n",
        "for i in range(3):\n",
        "    ax[i].imshow(X.iloc[i].values.reshape(8,8))\n",
        "    ax[i].set_title(f\"This is digit {y[i]}.\")\n",
        "plt.suptitle(\"First three images.\")\n",
        "plt.show()"
      ]
    },
    {
      "cell_type": "markdown",
      "metadata": {
        "id": "D5kYLQnYPaXd"
      },
      "source": [
        "Split data into train and test, let test size be 30% of the dataset and fix random state to 42:"
      ]
    },
    {
      "cell_type": "code",
      "execution_count": 35,
      "metadata": {
        "id": "VsToUlajPaXd"
      },
      "outputs": [],
      "source": [
        "X_train, X_val, y_train, y_val = train_test_split(X, y, \n",
        "                                                                            test_size=0.3, random_state=42)"
      ]
    },
    {
      "cell_type": "code",
      "execution_count": 36,
      "metadata": {
        "id": "sg3nfGz2PaXd"
      },
      "outputs": [],
      "source": [
        "assert y_val.shape[0] == 162\n",
        "assert y_val.sum() == 169"
      ]
    },
    {
      "cell_type": "markdown",
      "metadata": {
        "id": "0SY1cI6QPaXd"
      },
      "source": [
        "Fit a RandomForestClassifier with max_depth=13 and evaluate it's performance:"
      ]
    },
    {
      "cell_type": "code",
      "execution_count": 37,
      "metadata": {
        "id": "k3nWHRi2PaXd",
        "colab": {
          "base_uri": "https://localhost:8080/"
        },
        "outputId": "650f0ee4-a2aa-431b-819c-8e29165558c6"
      },
      "outputs": [
        {
          "output_type": "stream",
          "name": "stdout",
          "text": [
            "0.9938271604938271\n"
          ]
        }
      ],
      "source": [
        "clf = RandomForestClassifier(max_depth=13)\n",
        "\n",
        "# your code here\n",
        "clf.fit(X_train, y_train)\n",
        "acc = accuracy_score(y_true = y_val, y_pred = clf.predict(X_val)) # your code here\n",
        "print(acc)"
      ]
    },
    {
      "cell_type": "code",
      "execution_count": 38,
      "metadata": {
        "id": "SK7eV4c5PaXe"
      },
      "outputs": [],
      "source": [
        "assert acc > 0.98"
      ]
    },
    {
      "cell_type": "markdown",
      "metadata": {
        "id": "94RqGimvPaXe"
      },
      "source": [
        "Now we will use Boruta to find redundand pixels. If the package is not installed in your system, uncomment and run the following cell."
      ]
    },
    {
      "cell_type": "code",
      "execution_count": 39,
      "metadata": {
        "id": "oLvPlMB0PaXe",
        "colab": {
          "base_uri": "https://localhost:8080/"
        },
        "outputId": "fa91e419-de0f-48c3-8c47-ac296508d0e5"
      },
      "outputs": [
        {
          "output_type": "stream",
          "name": "stdout",
          "text": [
            "Requirement already satisfied: boruta in /usr/local/lib/python3.7/dist-packages (0.3)\n",
            "Requirement already satisfied: numpy>=1.10.4 in /usr/local/lib/python3.7/dist-packages (from boruta) (1.21.5)\n",
            "Requirement already satisfied: scikit-learn>=0.17.1 in /usr/local/lib/python3.7/dist-packages (from boruta) (1.0.2)\n",
            "Requirement already satisfied: scipy>=0.17.0 in /usr/local/lib/python3.7/dist-packages (from boruta) (1.4.1)\n",
            "Requirement already satisfied: joblib>=0.11 in /usr/local/lib/python3.7/dist-packages (from scikit-learn>=0.17.1->boruta) (1.1.0)\n",
            "Requirement already satisfied: threadpoolctl>=2.0.0 in /usr/local/lib/python3.7/dist-packages (from scikit-learn>=0.17.1->boruta) (3.1.0)\n"
          ]
        }
      ],
      "source": [
        "! pip install boruta"
      ]
    },
    {
      "cell_type": "code",
      "execution_count": 40,
      "metadata": {
        "id": "Mc8PaO_MPaXe",
        "colab": {
          "base_uri": "https://localhost:8080/"
        },
        "outputId": "9da2397b-9962-4e45-b48e-b1d047bde364"
      },
      "outputs": [
        {
          "output_type": "execute_result",
          "data": {
            "text/plain": [
              "BorutaPy(estimator=RandomForestClassifier(max_depth=13, n_estimators=62,\n",
              "                                          random_state=RandomState(MT19937) at 0x7FF4511F55A0),\n",
              "         n_estimators='auto',\n",
              "         random_state=RandomState(MT19937) at 0x7FF4511F55A0)"
            ]
          },
          "metadata": {},
          "execution_count": 40
        }
      ],
      "source": [
        "from boruta import BorutaPy\n",
        "\n",
        "feat_selector = BorutaPy(RandomForestClassifier(max_depth=13), \n",
        "                         n_estimators='auto', \n",
        "                         verbose=0, \n",
        "                         max_iter=100,\n",
        "                         random_state=42)\n",
        "\n",
        "feat_selector.fit(X_train.values, y_train.values)\n",
        "# your code here: do run the boruta"
      ]
    },
    {
      "cell_type": "markdown",
      "metadata": {
        "id": "IQ5lokf9PaXe"
      },
      "source": [
        "Let us print redundant pixels as a mask. Does the result looks similar to mine (or to Among us chracters)? "
      ]
    },
    {
      "cell_type": "code",
      "execution_count": 41,
      "metadata": {
        "id": "LgkoRVtrPaXe",
        "colab": {
          "base_uri": "https://localhost:8080/",
          "height": 262
        },
        "outputId": "24f84cdb-3a50-4be4-b393-49e37536a5d9"
      },
      "outputs": [
        {
          "output_type": "display_data",
          "data": {
            "text/plain": [
              "<Figure size 432x288 with 1 Axes>"
            ],
            "image/png": "[encoded data removed]"
          },
          "metadata": {}
        }
      ],
      "source": [
        "mask = np.array(feat_selector.support_).reshape(8,8)\n",
        "plt.imshow(mask);"
      ]
    },
    {
      "cell_type": "markdown",
      "metadata": {
        "id": "FaK38Mn9PaXf"
      },
      "source": [
        "At the end let us redo  classification but only with selected features"
      ]
    },
    {
      "cell_type": "code",
      "source": [
        "X_filtered = feat_selector.transform(X_train.values)"
      ],
      "metadata": {
        "id": "jquPOLzCUpis"
      },
      "execution_count": 42,
      "outputs": []
    },
    {
      "cell_type": "code",
      "source": [
        "X_val_filtered = X_val.loc[:,feat_selector.support_]"
      ],
      "metadata": {
        "id": "xvUnwpBghOpR"
      },
      "execution_count": 44,
      "outputs": []
    },
    {
      "cell_type": "code",
      "source": [
        "print('X_train = ', X_train.shape, ' X_val = ', X_val.shape, 'y_train = ', y_train.shape, 'y_val = ', y_val.shape, 'X_filtered = ', X_filtered.shape, 'X_val_filtered = ', X_val_filtered.shape)"
      ],
      "metadata": {
        "colab": {
          "base_uri": "https://localhost:8080/"
        },
        "id": "1NyPt-jAd9P7",
        "outputId": "97d481d9-350d-48ab-fa47-9ef2aaa39260"
      },
      "execution_count": 45,
      "outputs": [
        {
          "output_type": "stream",
          "name": "stdout",
          "text": [
            "X_train =  (375, 64)  X_val =  (162, 64) y_train =  (375,) y_val =  (162,) X_filtered =  (375, 31) X_val_filtered =  (162, 31)\n"
          ]
        }
      ]
    },
    {
      "cell_type": "code",
      "execution_count": 46,
      "metadata": {
        "id": "Dy_n86cNPaXf",
        "colab": {
          "base_uri": "https://localhost:8080/"
        },
        "outputId": "9e2ca3ce-b9ec-474d-b4ef-0bd663de593e"
      },
      "outputs": [
        {
          "output_type": "stream",
          "name": "stdout",
          "text": [
            "1.0\n"
          ]
        }
      ],
      "source": [
        "clf = RandomForestClassifier(max_depth=13)\n",
        "\n",
        "# your code here\n",
        "clf.fit(X_filtered, y_train)\n",
        "acc = accuracy_score(y_true = y_val, y_pred = clf.predict(X_val_filtered.values)) # your code here\n",
        "print(acc)"
      ]
    },
    {
      "cell_type": "code",
      "execution_count": 47,
      "metadata": {
        "id": "5ZCiK8iBPaXf"
      },
      "outputs": [],
      "source": [
        "assert acc > 0.99"
      ]
    },
    {
      "cell_type": "markdown",
      "metadata": {
        "id": "2O2FJGs3PaXf"
      },
      "source": [
        "# Materials & References"
      ]
    },
    {
      "cell_type": "markdown",
      "metadata": {
        "id": "8uYydrmpPaXf"
      },
      "source": [
        "1. General article about feature engineering and selection (main reference):\n",
        "https://github.com/Yorko/mlcourse.ai/blob/master/jupyter_english/topic06_features_regression/topic6_feature_engineering_feature_selection.ipynb\n",
        "\n",
        "2. Feature engineering/preprocessing, using scikit-learn API (great code examples, but really brief explanation):    \n",
        "https://scikit-learn.org/stable/modules/preprocessing\n",
        "\n",
        "3. Feature scaling/normalization:     \n",
        "https://towardsdatascience.com/all-about-feature-scaling-bcc0ad75cb35\n",
        "\n",
        "4. Log Transform/power transform:    \n",
        "https://medium.com/@kyawsawhtoon/log-transformation-purpose-and-interpretation-9444b4b049c9\n",
        "\n",
        "6. Missing values preprocessing using scikit-learn API (great code examples, great explanation):    \n",
        "https://scikit-learn.org/stable/modules/impute.html\n",
        "\n",
        "7. Feature selection scikit-learn API (great code examples, great explanation):   \n",
        "https://scikit-learn.org/stable/modules/feature_selection.html\n",
        "\n",
        "8. Melbourne housing dataset source:    \n",
        "https://www.kaggle.com/anthonypino/melbourne-housing-market"
      ]
    }
  ],
  "metadata": {
    "kernelspec": {
      "display_name": "Python 3 (ipykernel)",
      "language": "python",
      "name": "python3"
    },
    "language_info": {
      "codemirror_mode": {
        "name": "ipython",
        "version": 3
      },
      "file_extension": ".py",
      "mimetype": "text/x-python",
      "name": "python",
      "nbconvert_exporter": "python",
      "pygments_lexer": "ipython3",
      "version": "3.9.7"
    },
    "toc": {
      "base_numbering": "1",
      "nav_menu": {},
      "number_sections": true,
      "sideBar": true,
      "skip_h1_title": false,
      "title_cell": "Table of Contents",
      "title_sidebar": "Contents",
      "toc_cell": false,
      "toc_position": {
        "height": "calc(100% - 180px)",
        "left": "10px",
        "top": "150px",
        "width": "165px"
      },
      "toc_section_display": true,
      "toc_window_display": true
    },
    "colab": {
      "name": "homework.ipynb.txt",
      "provenance": [],
      "collapsed_sections": []
    }
  },
  "nbformat": 4,
  "nbformat_minor": 0
}